{
  "nbformat": 4,
  "nbformat_minor": 0,
  "metadata": {
    "colab": {
      "provenance": []
    },
    "kernelspec": {
      "name": "python3",
      "display_name": "Python 3"
    },
    "language_info": {
      "name": "python"
    }
  },
  "cells": [
    {
      "cell_type": "markdown",
      "source": [
        "**SLICING OF LISTS**"
      ],
      "metadata": {
        "id": "_X6cu87vXyWt"
      }
    },
    {
      "cell_type": "code",
      "source": [
        "#Create a sample list\n",
        "my_list = [1, 2, 3, 4, 5, 6, 7, 8, 9, 10]\n",
        "\n",
        "\n",
        "#Access elements using slicing\n",
        "\n",
        "#Syntax: my_list[start:end:step]\n",
        "subset = my_list[2:6] # Extract elements from index 2 to 5 (end index is exclusive)\n",
        "print(subset) # Output: [3, 4, 5, 6]\n",
        "\n",
        "#You can also specify a step size\n",
        "subset_with_step = my_list[1:8:2] # Extract elements from index 1 to 7 with a step of 2\n",
        "print(subset_with_step) # Output: [2, 4, 6, 8]\n",
        "\n",
        "\n",
        "#Omitting start and end indices If you omit the start index, it defaults to 0.\n",
        "\n",
        "# If you omit the end index, it defaults to the length of the list.\n",
        "partial_list = my_list[:5] # Extract elements from the beginning up to index 4\n",
        "print(partial_list) # Output: [1, 2, 3, 4, 5]\n",
        "\n"
      ],
      "metadata": {
        "id": "9g3NCzznXzrA"
      },
      "execution_count": null,
      "outputs": []
    },
    {
      "cell_type": "code",
      "source": [
        "#Negative indices\n",
        "\n",
        "#You can use negative indices to count from the end of the list.\n",
        "last_three = my_list[-3:] # Extract the last three elements\n",
        "print(last_three) # Output: [8, 9, 10]\n",
        "\n",
        "#Reversing a list using slicing\n",
        "\n",
        "reversed_list = my_list[::-1] # Extract all elements with a step of -1 (reverse order)\n",
        "print(reversed_list) # Output: [10, 9, 8, 7, 6, 5, 4, 3, 2, 1"
      ],
      "metadata": {
        "id": "Ra0H9U4-YRcp"
      },
      "execution_count": null,
      "outputs": []
    },
    {
      "cell_type": "code",
      "source": [
        "#Create a sample list\n",
        "my_list = [1, 2, 3, 4, 5, 6, 7, 8, 9, 10]\n",
        "\n",
        "#Access elements using slicing\n",
        "#Syntax: my_list[start:end:step]\n",
        "subset = my_list[2:6] # Extract elements from index 2 to 5 (end index is exclusive)\n",
        "print(subset) # Output: [3, 4, 5, 6]\n",
        "\n",
        "\n",
        "#You can also specify a step size\n",
        "subset_with_step = my_list[1:8:2] # Extract elements from index 1 to 7 with a step of 2\n",
        "print(subset_with_step) # Output: [2, 4, 6, 8]\n",
        "\n",
        "\n",
        "\n",
        "#Omitting start and end indices\n",
        "\n",
        "#If you omit the start index, it defaults to 0.\n",
        "\n",
        "#If you omit the end index, it defaults to the length of the list.\n",
        "\n",
        "partial_list = my_list[:5] # Extract elements from the beginning up to index 4\n",
        "print(partial_list) # Output: [1, 2, 3, 4, 5]\n"
      ],
      "metadata": {
        "id": "tK9mPmWGYfIt"
      },
      "execution_count": null,
      "outputs": []
    },
    {
      "cell_type": "code",
      "source": [
        "#Negative indices\n",
        "\n",
        "# You can use negative indices to count from the end of the list.\n",
        "last_three = my_list[-3:] # Extract the last three elements\n",
        "print(last_three) # Output: [8, 9, 10]\n",
        "\n",
        "#Reversing a list using slicing\n",
        "\n",
        "reversed_list = my_list[::-1] # Extract all elements with a step of -1 (reverse order)\n",
        "print(reversed_list) # Output: [10, 9, 8, 7, 6, 5, 4, 3, 2, 1]"
      ],
      "metadata": {
        "id": "zolcn5o7ZHJo"
      },
      "execution_count": null,
      "outputs": []
    },
    {
      "cell_type": "markdown",
      "source": [
        "**TUPLES**"
      ],
      "metadata": {
        "id": "mH-2WiQGZ0Bs"
      }
    },
    {
      "cell_type": "code",
      "source": [
        "#Creating an Empty Tuple:\n",
        "empty_tuple = ()\n",
        "empty_tuple\n",
        "\n",
        "#Creating a Tuple with Different Data Types:\n",
        "mixed_tuple = (1, 'hello', 3.14, True)\n",
        "mixed_tuple\n",
        "\n",
        "#Creating a Tuple with Integers:\n",
        "integer_tuple = (1, 2, 3, 4, 5)\n",
        "integer_tuple\n",
        "\n",
        "\n",
        "#Creating a Tuple with Strings:\n",
        "string_tuple = ('apple', 'banana', 'orange')\n",
        "string_tuple\n",
        "\n",
        "#Creating a Nested Tuple:\n",
        "nested_tuple = (1, ('apple', 'orange'), 3.14)\n",
        "nested_tuple"
      ],
      "metadata": {
        "id": "8ASvFQ4CZ--q"
      },
      "execution_count": null,
      "outputs": []
    },
    {
      "cell_type": "code",
      "source": [
        "#Creating a Single-Element Tuple:\n",
        "single_element_tuple = (42,)#Note the trailing comma\n",
        "single_element_tuple\n",
        "\n",
        "#Using the tuple() Constructor:\n",
        "From_list = tuple([1, 2, 3]) # Convert a list to a tuple\n",
        "From_list\n",
        "\n",
        "#Creating a Tuple with Repetition:\n",
        "repeated_tuple = (0,) * 5      # Creates a tuple with five repeated elements\n",
        "repeated_tuple"
      ],
      "metadata": {
        "id": "1M7CV1ttas4B"
      },
      "execution_count": null,
      "outputs": []
    },
    {
      "cell_type": "code",
      "source": [
        "#Accessing tuple elements\n",
        "my_tuple (\"apple\", 'banana', 'orange', 'grape')\n",
        "\n",
        "first element = my_tuple[0] #Access the first element\n",
        "first_element\n",
        "\n",
        "second element = my_tuple[1] #Access the second element second element\n",
        "second element"
      ],
      "metadata": {
        "id": "JxL9w6FnbqQP"
      },
      "execution_count": null,
      "outputs": []
    },
    {
      "cell_type": "code",
      "source": [
        "#Negative Indexing:\n",
        "last_element = my_tuple[-1] #Access the last element using negative indexing\n",
        "last_element"
      ],
      "metadata": {
        "id": "nJ4pDeOwcmzZ"
      },
      "execution_count": null,
      "outputs": []
    },
    {
      "cell_type": "code",
      "source": [
        "#Accessing Nested Elements:\n",
        "nested_tuple = (1, ('apple', 'orange'), 3.14)\n",
        "nested_tuple"
      ],
      "metadata": {
        "id": "Z_X83sRjcpRd"
      },
      "execution_count": null,
      "outputs": []
    },
    {
      "cell_type": "code",
      "source": [
        "#SLicing:\n",
        "sliced_tuple = my_tuple[1:3] #Extract elements from index 1 to 2\n",
        "sliced_tuple"
      ],
      "metadata": {
        "id": "f1ZEULe9coCB"
      },
      "execution_count": null,
      "outputs": []
    },
    {
      "cell_type": "markdown",
      "source": [
        "**SETS**"
      ],
      "metadata": {
        "id": "cwLVv1vfdegS"
      }
    },
    {
      "cell_type": "code",
      "source": [
        "#Define two sets\n",
        "set1 = {1, 2, 3, 4, 5}\n",
        "set2 = {3, 4, 5, 6, 7}\n",
        "\n",
        "print(set1)\n",
        "print(set2)"
      ],
      "metadata": {
        "id": "tv2HNB3VdlWO"
      },
      "execution_count": null,
      "outputs": []
    },
    {
      "cell_type": "code",
      "source": [
        "#Union of the Set\n",
        "\n",
        "union_set = set1.union(set2)\n",
        "print(\"Union \" : union_set)"
      ],
      "metadata": {
        "id": "qCbu-mOTiNEP"
      },
      "execution_count": null,
      "outputs": []
    },
    {
      "cell_type": "code",
      "source": [
        "#Intersection of two sets\n",
        "\n",
        "intersection_set = set1.intersection(set2)\n",
        "print(\"Intersection:\", intersection_set)"
      ],
      "metadata": {
        "id": "RiM6hPrGe2L9"
      },
      "execution_count": null,
      "outputs": []
    },
    {
      "cell_type": "code",
      "source": [
        "#Difference between two sets\n",
        "\n",
        "difference_set1 = set1.difference(set2)\n",
        "difference_set2 = set2.difference(set1)\n",
        "\n",
        "print(\"Difference (set1 set2):\", difference_set1)\n",
        "print(\"Difference (set2 setl):\", difference_set2)"
      ],
      "metadata": {
        "id": "RLm1Q1KZe3kp"
      },
      "execution_count": null,
      "outputs": []
    },
    {
      "cell_type": "code",
      "source": [
        "#Symmetric difference between two sets\n",
        "\n",
        "symmetric_difference_set = set1.symmetric_difference(set2)\n",
        "print(\"Symmetric Difference:\", symmetric_difference_set)"
      ],
      "metadata": {
        "id": "sSigKhu6e5OA"
      },
      "execution_count": null,
      "outputs": []
    },
    {
      "cell_type": "markdown",
      "source": [
        "**DICTIONARIES**"
      ],
      "metadata": {
        "id": "Ags5loqFeXBl"
      }
    },
    {
      "cell_type": "code",
      "source": [
        "#Creating a mutable dictionary\n",
        "\n",
        "person = {\n",
        "    'name': 'Alice',\n",
        "    'age': 25,\n",
        "    'city':'New York',\n",
        "    'job': 'Engineer'\n",
        "\n",
        "}\n",
        "\n",
        "# Accessing values\n",
        "print(\"Name:\", person['name'])\n",
        "print(\"Age:\", person['age'])"
      ],
      "metadata": {
        "id": "nu8L6h_PevGX"
      },
      "execution_count": null,
      "outputs": []
    },
    {
      "cell_type": "code",
      "source": [
        "#Modifying values\n",
        "person['age'] = 26\n",
        "print(\"Updated Age:\", person['age'])\n"
      ],
      "metadata": {
        "id": "lDfTi6PEeWu1"
      },
      "execution_count": null,
      "outputs": []
    },
    {
      "cell_type": "code",
      "source": [
        "#Adding a new key-value pair\n",
        "person['gender'] = 'Female'\n",
        "print(\"Gender:\", person['gender'])\n"
      ],
      "metadata": {
        "id": "CFwA6ljMfrZw"
      },
      "execution_count": null,
      "outputs": []
    },
    {
      "cell_type": "code",
      "source": [
        "#Deleting a key-value pair\n",
        "\n",
        "del person['job']\n",
        "print(\"Dictionary after deleting 'job':\", person)\n",
        "\n"
      ],
      "metadata": {
        "id": "RgFZpt5AfxWJ"
      },
      "execution_count": null,
      "outputs": []
    },
    {
      "cell_type": "code",
      "source": [
        "#Checking if a key exists\n",
        "\n",
        "if 'city' in person:\n",
        "  print(\"City:\", person['city'])\n"
      ],
      "metadata": {
        "id": "dbzP6zyjf4_u"
      },
      "execution_count": null,
      "outputs": []
    },
    {
      "cell_type": "code",
      "source": [
        "#Iterating through keys and values\n",
        "print(\"Iterating through keys and values:\")\n",
        "for key, value in person.items():\n",
        "  print(f\"{key}: {value}\")"
      ],
      "metadata": {
        "id": "8oLAZbdugApk"
      },
      "execution_count": null,
      "outputs": []
    },
    {
      "cell_type": "code",
      "source": [
        "# Immutable dictionaries\n",
        "\n",
        "\n",
        "from collections import OrderedDict\n",
        "\n",
        "\n",
        "\n",
        "#Creating an ordered dictionary\n",
        "ordered_dict = OrderedDict()\n",
        "\n",
        "ordered_dict['one'] = 1\n",
        "\n",
        "ordered_dict['two'] = 2\n",
        "\n",
        "ordered_dict['three'] = 3\n",
        "\n",
        "\n",
        "#Accessing values\n",
        "\n",
        "print(\"Value for 'two':\", ordered_dict['two'])\n",
        "\n"
      ],
      "metadata": {
        "id": "BwwLYB_SgQoA"
      },
      "execution_count": null,
      "outputs": []
    },
    {
      "cell_type": "code",
      "source": [
        "#Iterating through keys and values (maintaining order)\n",
        "\n",
        "print(\"Iterating through keys and values:\")\n",
        "for key, value in ordered_dict.items():\n",
        "  print(f\"{key}: {value}\")\n"
      ],
      "metadata": {
        "id": "8aKjinACg5eL"
      },
      "execution_count": null,
      "outputs": []
    }
  ]
}