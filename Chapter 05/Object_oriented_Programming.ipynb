{
  "nbformat": 4,
  "nbformat_minor": 0,
  "metadata": {
    "colab": {
      "provenance": []
    },
    "kernelspec": {
      "name": "python3",
      "display_name": "Python 3"
    },
    "language_info": {
      "name": "python"
    }
  },
  "cells": [
    {
      "cell_type": "markdown",
      "source": [
        "**Object-oriented Programming**"
      ],
      "metadata": {
        "id": "PQNOjrENz_5o"
      }
    },
    {
      "cell_type": "code",
      "source": [
        "# Defining a class\n",
        "\n",
        "class Person:\n",
        "  #Constructor (initializer)\n",
        "  def __init__(self, name, age):\n",
        "    self.name = name\n",
        "    self.age = age\n",
        "\n",
        "    # Method to display information\n",
        "  def display_info(self):\n",
        "     print(f\"Name:{self.name}, Age: {self.age}\")"
      ],
      "metadata": {
        "id": "0fLDwULs0DIY"
      },
      "execution_count": 39,
      "outputs": []
    },
    {
      "cell_type": "code",
      "source": [
        "#Create objects (instances) of the Person class\n",
        "person1 = Person(\"Alice\", 30)\n",
        "person2 = Person(\"Bob\", 25)"
      ],
      "metadata": {
        "id": "9BNv-Ypa0eb5"
      },
      "execution_count": 40,
      "outputs": []
    },
    {
      "cell_type": "code",
      "source": [
        "#Access attributes\n",
        "print(person1.name) # Output: \"Alice\"\n",
        "print(person2.age) # Output: 25\n",
        "\n",
        "#Call methods\n",
        "person1.display_info() # Output: \"Name: Alice, Age: 30\"\n",
        "person2.display_info() # Output: \"Name: Bob, Age: 25\""
      ],
      "metadata": {
        "id": "yzZ2Zs1K0p2d"
      },
      "execution_count": null,
      "outputs": []
    },
    {
      "cell_type": "markdown",
      "source": [
        "**Inheritance**"
      ],
      "metadata": {
        "id": "8dzZmfTm06zP"
      }
    },
    {
      "cell_type": "code",
      "source": [
        "#Base class\n",
        "\n",
        "\n",
        "class Animal:\n",
        "\n",
        "  def __init__(self, name):\n",
        "    self.name = name\n",
        "  def speak(self):\n",
        "    pass # This is a placeholder method\n",
        "\n",
        "\n",
        "class Dog(Animal):\n",
        "  def speak(self):\n",
        "    return f\"{self.name} says Woof!\"\n",
        "\n",
        "\n",
        "class Cat(Animal):\n",
        "  def speak(self):\n",
        "    return f\"{self.name} says Meow!\""
      ],
      "metadata": {
        "id": "wNa-rG6100SH"
      },
      "execution_count": 42,
      "outputs": []
    },
    {
      "cell_type": "code",
      "source": [
        "#Creating derived objects\n",
        "\n",
        "dog = Dog(\"Buddy\")\n",
        "cat = Cat(\"Whiskers\")\n",
        "\n",
        "print(dog.speak()) # Output: \"Buddy says Woof!\"\n",
        "print(cat.speak()) # Output: \"Whiskers says Meow!\""
      ],
      "metadata": {
        "id": "6YglFtjE1xdJ"
      },
      "execution_count": null,
      "outputs": []
    },
    {
      "cell_type": "markdown",
      "source": [
        "**Polymorphism**"
      ],
      "metadata": {
        "id": "XM8vHxTm2CYF"
      }
    },
    {
      "cell_type": "code",
      "source": [
        "#Method overriding\n",
        "\n",
        "\n",
        "class Shape:\n",
        "  def area(self):\n",
        "    pass\n",
        "\n",
        "\n",
        "class Circle(Shape):\n",
        "  def __init__(self, radius):\n",
        "    self.radius = radius\n",
        "\n",
        "  def area(self):\n",
        "    return 3.14 * self.radius * self.radius\n",
        "\n",
        "\n",
        "class Rectangle (Shape):\n",
        "  def __init__(self, width, height):\n",
        "    self.width = width\n",
        "    self.height = height\n",
        "\n",
        "  def area(self):\n",
        "    return self.width * self.height"
      ],
      "metadata": {
        "id": "bVK8pamV2AMn"
      },
      "execution_count": 44,
      "outputs": []
    },
    {
      "cell_type": "code",
      "source": [
        "#Polymorphism\n",
        "\n",
        "circle = Circle(5)\n",
        "rectangle = Rectangle(4, 6)\n",
        "\n",
        "shapes = [circle, rectangle]\n",
        "\n",
        "for shape in shapes:\n",
        "  print(f\"Area: {shape.area()}\")"
      ],
      "metadata": {
        "colab": {
          "base_uri": "https://localhost:8080/"
        },
        "id": "xoct-h8026Dc",
        "outputId": "e7166c70-ba52-430d-afe2-7b54166233bb"
      },
      "execution_count": 45,
      "outputs": [
        {
          "output_type": "stream",
          "name": "stdout",
          "text": [
            "Area: 78.5\n",
            "Area: 24\n"
          ]
        }
      ]
    },
    {
      "cell_type": "markdown",
      "source": [
        "**Abstraction**"
      ],
      "metadata": {
        "id": "vMWpbT723Yrx"
      }
    },
    {
      "cell_type": "code",
      "source": [
        "from abc import ABC, abstractmethod  # Import ABC (Abstract Base Class) and abstractmethod\n",
        "\n",
        "class Shape(ABC):\n",
        "    def __init__(self):\n",
        "        pass\n",
        "\n",
        "    @abstractmethod\n",
        "    def area(self):\n",
        "        pass\n",
        "\n",
        "class Circle(Shape):\n",
        "    def __init__(self, radius):\n",
        "        self.radius = radius\n",
        "\n",
        "    def area(self):\n",
        "        return 3.14 * self.radius * self.radius\n",
        "\n",
        "class Rectangle(Shape):\n",
        "    def __init__(self, length, width):\n",
        "        self.length = length\n",
        "        self.width = width\n",
        "\n",
        "    def area(self):\n",
        "        return self.length * self.width\n",
        "\n",
        "# Creating objects\n",
        "circle = Circle(5)\n",
        "rectangle = Rectangle(4, 6)\n",
        "\n",
        "# Calculating and displaying areas\n",
        "print(f\"Area of the circle: {circle.area()}\")\n",
        "print(f\"Area of the rectangle: {rectangle.area()}\")\n"
      ],
      "metadata": {
        "id": "Bg7IVDVK3aLn"
      },
      "execution_count": null,
      "outputs": []
    },
    {
      "cell_type": "code",
      "source": [
        "from abc import ABC, abstractmethod\n",
        "\n",
        "# Define an abstract class for items in the library\n",
        "class LibraryItem(ABC):\n",
        "    def __init__(self, title, author):\n",
        "        self.title = title\n",
        "        self.author = author\n",
        "        self.checked_out = False\n",
        "\n",
        "    @abstractmethod\n",
        "    def display_details(self):\n",
        "        pass\n",
        "\n",
        "    def check_out(self):\n",
        "        if not self.checked_out:\n",
        "            self.checked_out = True\n",
        "            print(f\"{self.title} by {self.author} has been checked out.\")\n",
        "        else:\n",
        "            print(f\"{self.title} is already checked out.\")\n",
        "\n",
        "    def check_in(self):\n",
        "        if self.checked_out:\n",
        "            self.checked_out = False\n",
        "            print(f\"{self.title} by {self.author} has been checked in.\")\n",
        "        else:\n",
        "            print(f\"{self.title} is not checked out.\")\n",
        "\n",
        "# Define a class for books\n",
        "class Book(LibraryItem):\n",
        "    def __init__(self, title, author, genre):\n",
        "        super().__init__(title, author)\n",
        "        self.genre = genre\n",
        "\n",
        "    def display_details(self):\n",
        "        print(f\"Title: {self.title}\")\n",
        "        print(f\"Author: {self.author}\")\n",
        "        print(f\"Genre: {self.genre}\")\n",
        "        print(f\"Checked Out: {'Yes' if self.checked_out else 'No'}\")\n",
        "\n",
        "# Define a class for DVDs\n",
        "class DVD(LibraryItem):\n",
        "    def __init__(self, title, director, runtime):\n",
        "        super().__init__(title, director)\n",
        "        self.runtime = runtime\n",
        "\n",
        "    def display_details(self):\n",
        "        print(f\"Title: {self.title}\")\n",
        "        print(f\"Director: {self.author}\")\n",
        "        print(f\"Runtime: {self.runtime} minutes\")\n",
        "        print(f\"Checked Out: {'Yes' if self.checked_out else 'No'}\")\n",
        "\n",
        "# Create a library\n",
        "class Library:\n",
        "    def __init__(self):\n",
        "        self.catalog = []\n",
        "\n",
        "    def add_item(self, item):\n",
        "        self.catalog.append(item)\n",
        "\n",
        "    def display_catalog(self):\n",
        "        for item in self.catalog:\n",
        "            item.display_details()\n",
        "            print()\n",
        "\n",
        "# Main program\n",
        "if __name__ == \"__main__\":\n",
        "    book1 = Book(\"Python Crash Course\", \"Eric Matthes\", \"Programming\")\n",
        "    dvd1 = DVD(\"Inception\", \"Christopher Nolan\", 148)\n",
        "    book2 = Book(\"The Great Gatsby\", \"F. Scott Fitzgerald\", \"Fiction\")\n",
        "\n",
        "    library = Library()\n",
        "    library.add_item(book1)\n",
        "    library.add_item(dvd1)\n",
        "    library.add_item(book2)\n",
        "\n",
        "    library.display_catalog()\n",
        "\n",
        "    book1.check_out()\n",
        "    dvd1.check_out()\n",
        "    book1.check_out()\n",
        "\n",
        "    library.display_catalog()\n"
      ],
      "metadata": {
        "id": "8wATghur3_ib"
      },
      "execution_count": null,
      "outputs": []
    }
  ]
}