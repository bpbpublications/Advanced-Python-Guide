{
  "nbformat": 4,
  "nbformat_minor": 0,
  "metadata": {
    "colab": {
      "provenance": []
    },
    "kernelspec": {
      "name": "python3",
      "display_name": "Python 3"
    },
    "language_info": {
      "name": "python"
    }
  },
  "cells": [
    {
      "cell_type": "code",
      "source": [
        "#Creating a module\n",
        "\n",
        "#rectangle.py\n",
        "\n",
        "def calculate_area(length, width):\n",
        "  \"Calculate the area of a rectangle.\"\"\"\n",
        "  return length * width\n"
      ],
      "metadata": {
        "id": "bG7W4yHVKngC"
      },
      "execution_count": 49,
      "outputs": []
    },
    {
      "cell_type": "code",
      "source": [
        "#Using the module\n",
        "\n",
        "#use the module created above as rectangle.py\n",
        "\n",
        "\n",
        "\n",
        "import rectangle\n",
        "\n",
        "length =  5\n",
        "width= 3\n",
        "\n",
        "area = rectangle.calculate_area(length, width)\n",
        "print(f\"The area of the rectangle is {area} square units.\")"
      ],
      "metadata": {
        "id": "UV2-XLJFYBmS"
      },
      "execution_count": null,
      "outputs": []
    },
    {
      "cell_type": "code",
      "source": [
        "#create a simple module named calculator\n",
        "\n",
        "#calculator.py\n",
        "\n",
        "def add(x, y):\n",
        "  return x + y\n",
        "\n",
        "def subtract(x, y):\n",
        "  return x - y\n",
        "\n",
        "def multiply(x, y):\n",
        "  return x * y\n",
        "\n",
        "def divide(x, y):\n",
        "  if y != 0:\n",
        "    return x / y\n",
        "  else:\n",
        "    return \"Error: Division by zero!\""
      ],
      "metadata": {
        "id": "xfAFSf3nKolG"
      },
      "execution_count": null,
      "outputs": []
    },
    {
      "cell_type": "code",
      "source": [
        "#Import the calculator module\n",
        "\n",
        "\n",
        "#main.py\n",
        "import calculator\n",
        "\n",
        "#Using functions from the calculator module\n",
        "print(\"Addition:\", calculator.add(5, 3))\n",
        "print(\"Subtraction:\", calculator.subtract(10,4))\n",
        "print(\"Multiplication:\", calculator.multiply(7, 2))\n",
        "print(\"Division:\", calculator.divide(15, 3))"
      ],
      "metadata": {
        "id": "k-JZMArEbp7e"
      },
      "execution_count": null,
      "outputs": []
    },
    {
      "cell_type": "code",
      "source": [
        "#Calling calculate_area function from the rectangle module\n",
        "\n",
        "\n",
        "import rectangle\n",
        "length = 5\n",
        "width = 3\n",
        "\n",
        "area = rectangle.calculate_area(length, width)\n",
        "print(f\"The area of the rectangle is {area} square units.\")"
      ],
      "metadata": {
        "id": "AP2fzNBgdBlK"
      },
      "execution_count": null,
      "outputs": []
    },
    {
      "cell_type": "code",
      "source": [
        "#Renaming imports\n",
        "#importing rectangle module as alias\n",
        "\n",
        "import rectangle as rt\n",
        "\n",
        "length = 5\n",
        "width = 3\n",
        "\n",
        "area = rt.calculate_area(length, width)\n",
        "\n",
        "print(f\"The area of the rectangle is {area} square units.\")\n"
      ],
      "metadata": {
        "id": "WTtOtBBTdggl"
      },
      "execution_count": 3,
      "outputs": []
    },
    {
      "cell_type": "code",
      "source": [
        "#Standard library modules\n",
        "\n",
        "\n",
        "import math\n",
        "\n",
        "number = 25\n",
        "square_root = math.sqrt(number)\n",
        "\n",
        "print(f\"The square root of {number} is {square_root}.\")"
      ],
      "metadata": {
        "id": "plvuzatSdjdK"
      },
      "execution_count": null,
      "outputs": []
    }
  ]
}