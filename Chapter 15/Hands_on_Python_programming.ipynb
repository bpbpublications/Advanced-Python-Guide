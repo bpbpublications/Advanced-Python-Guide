{
  "nbformat": 4,
  "nbformat_minor": 0,
  "metadata": {
    "colab": {
      "provenance": []
    },
    "kernelspec": {
      "name": "python3",
      "display_name": "Python 3"
    },
    "language_info": {
      "name": "python"
    }
  },
  "cells": [
    {
      "cell_type": "code",
      "source": [
        "#Variable assignment\n",
        "\n",
        "x = 10           # integer\n",
        "name = \"John\"    # string\n",
        "is_valid = True  # boolean\n",
        "print(x)\n",
        "print(name)\n",
        "print(is_valid)"
      ],
      "metadata": {
        "id": "4YbAxyiEaqUs"
      },
      "execution_count": null,
      "outputs": []
    },
    {
      "cell_type": "code",
      "source": [
        "#Multiple Variable Assignment\n",
        "\n",
        "a, b, c = 1, 2, 3\n",
        "print(a)\n",
        "print(b)\n",
        "print(c)\n"
      ],
      "metadata": {
        "id": "TbxSjRLOa4yd"
      },
      "execution_count": null,
      "outputs": []
    },
    {
      "cell_type": "markdown",
      "source": [
        "Operations\n"
      ],
      "metadata": {
        "id": "n7b94D3ubMA8"
      }
    },
    {
      "cell_type": "code",
      "source": [
        "#Arithmetic operations with integers\n",
        "\n",
        "a = 10\n",
        "b = 5\n",
        "\n",
        "sum_result = a + b\n",
        "difference_result = a - b\n",
        "product_result = a *b\n",
        "division_result = a / b # Note: Division always results in a float in Python 3.x\n",
        "remainder_result = a % b\n",
        "\n",
        "print(\"The sum of a and b is:\", sum_result)\n",
        "print(\"The differenc of a and b is:\", difference_result)\n",
        "print(\"The product of a and b is:\", product_result)\n",
        "print(\"The division of a and b is:\", division_result)\n",
        "print(\"The remainde of a and b is:\", remainder_result)\n"
      ],
      "metadata": {
        "id": "-NoxyvQobMk1"
      },
      "execution_count": null,
      "outputs": []
    },
    {
      "cell_type": "code",
      "source": [
        "#Arithmetic operations with floats\n",
        "\n",
        "c = 3.0\n",
        "d = 2.5\n",
        "\n",
        "sum_result_float = c + d\n",
        "difference_result_float = c - d\n",
        "product_result_float = c * d\n",
        "division_result_float = c/d\n",
        "\n",
        "print(\"The sum of cand dis:\", sum_result_float)\n",
        "print(\"The differenc of c and dis:\", difference_result_float)\n",
        "print(\"The product of c and dis:\", product_result_float)\n",
        "print(\"The division of c and dis:\", division_result_float)"
      ],
      "metadata": {
        "id": "wi-btFNjbwzy"
      },
      "execution_count": null,
      "outputs": []
    },
    {
      "cell_type": "code",
      "source": [
        "#Type conversion between integers and floats\n",
        "\n",
        "int_value = 10\n",
        "float_value = float(int_value)\n",
        "print(\"The float_value is:\", float_value)\n",
        "\n",
        "float_value = 5.8\n",
        "int_value = int(float_value)\n",
        "print(\"The int_value is:\", float_value)\n"
      ],
      "metadata": {
        "id": "qK0iFZjKcKfA"
      },
      "execution_count": null,
      "outputs": []
    },
    {
      "cell_type": "code",
      "source": [
        "# Complex number variable\n",
        "\n",
        "complex_num = 3 + 2j\n",
        "print(complex_num)"
      ],
      "metadata": {
        "id": "FVLEbB5GcYdS"
      },
      "execution_count": null,
      "outputs": []
    },
    {
      "cell_type": "code",
      "source": [
        "# Basic operations with complex numbers\n",
        "\n",
        "z1 = 2 + 3j\n",
        "z2 = 1 - 1j\n",
        "\n",
        "sum_result_complex = z1 + z2\n",
        "product_result_complex = z1 * z2\n",
        "print(\"The sum of z1 and z2 is:\", sum_result_complex)\n",
        "print(\"The product of z1 and z2 is:\", product_result_complex)\n"
      ],
      "metadata": {
        "id": "r6Is8-oNckDU"
      },
      "execution_count": null,
      "outputs": []
    },
    {
      "cell_type": "markdown",
      "source": [
        "Lists and data structures"
      ],
      "metadata": {
        "id": "8cWBoJycctg4"
      }
    },
    {
      "cell_type": "code",
      "source": [
        "#Creating a list\n",
        "fruits = [\"apple\", \"orange\", \"banana\", \"grape\"]\n",
        "\n",
        "#Accessing elements\n",
        "first_fruit = fruits[0]\n",
        "print(\"First fruit:\", first_fruit)"
      ],
      "metadata": {
        "id": "aO-84Q-Lc21n"
      },
      "execution_count": null,
      "outputs": []
    },
    {
      "cell_type": "markdown",
      "source": [
        "Tuple\n"
      ],
      "metadata": {
        "id": "mWFiPJztYp1k"
      }
    },
    {
      "cell_type": "code",
      "source": [
        "#Tuple\n",
        "\n",
        "coordinates = (3, 4)\n",
        "person_info = (\"Alice\", 25, \"Wonderland\")\n",
        "person_info"
      ],
      "metadata": {
        "id": "2zPUzGqxdFmK"
      },
      "execution_count": null,
      "outputs": []
    },
    {
      "cell_type": "code",
      "source": [
        "#Creating a tuple with different data types\n",
        "person_info = (\"Alice\", 25, \"Wonderland\")\n",
        "\n",
        "#Creating an empty tuple\n",
        "empty_tuple = ()\n",
        "\n",
        "#Accessing elements by index\n",
        "name = person_info[0]\n",
        "name\n",
        "\n",
        "age = person_info[1]\n",
        "age\n",
        "\n",
        "#Attempting to modify a tuple will result in an error\n",
        "person_info[1] = 30 # This line will raise a TypeError"
      ],
      "metadata": {
        "id": "6Ls3yfvKdcLs"
      },
      "execution_count": null,
      "outputs": []
    },
    {
      "cell_type": "code",
      "source": [
        "#Tuple\n",
        "#Unpacking elements into variables\n",
        "name, age, city = person_info\n",
        "\n",
        "print(name)\n",
        "print(age)\n",
        "print(city)\n",
        "\n",
        "# Creating a tuple with a single element\n",
        "singleton_tuple = (42,)  # Note the trailing comma\n",
        "singleton_tuple\n",
        "\n",
        "\n",
        "def get_coordinates():\n",
        "  return (3, 4)\n",
        "\n",
        "x, y = get_coordinates()\n",
        "print(x)\n",
        "print(y)"
      ],
      "metadata": {
        "id": "5dbE6uG9kH4T"
      },
      "execution_count": null,
      "outputs": []
    },
    {
      "cell_type": "code",
      "source": [
        "# Creating a tuple from a list\n",
        "numbers_list = [1, 2, 3, 4, 5]\n",
        "numbers_tuple = tuple(numbers_list)\n",
        "print(numbers_tuple)\n",
        "\n",
        "for item in person_info:\n",
        "  print(item)"
      ],
      "metadata": {
        "id": "C3JJH0wslMVY"
      },
      "execution_count": null,
      "outputs": []
    },
    {
      "cell_type": "markdown",
      "source": [
        "Sets\n"
      ],
      "metadata": {
        "id": "w7TRG5v4Ylhz"
      }
    },
    {
      "cell_type": "code",
      "source": [
        "#sets\n",
        "\n",
        "# Creating a set\n",
        "colors = {\"red\", \"green\", \"blue\"}\n",
        "\n",
        "#Creating an empty set\n",
        "deva_set = set()\n",
        "print(deva_set)\n",
        "\n",
        "#Adding elements\n",
        "colors.add(\"yellow\")\n",
        "print(colors)\n",
        "\n",
        "#Removing elements\n",
        "colors.remove(\"red\")\n",
        "print(colors)\n",
        "\n",
        "#Union of sets\n",
        "all_colors = colors.union({\"purple\", \"orange\"})\n",
        "print(all_colors)\n",
        "\n",
        "#Intersection of sets\n",
        "common_colors = colors.intersection({\"green\", \"blue\"})\n",
        "print(common_colors)\n",
        "\n"
      ],
      "metadata": {
        "id": "-P6lu8pBlce8"
      },
      "execution_count": null,
      "outputs": []
    },
    {
      "cell_type": "code",
      "source": [
        "#Difference of sets\n",
        "unique_colors = colors.difference({\"green\", \"blue\"})\n",
        "print(unique_colors)\n",
        "\n",
        "\n",
        "#Checking if an element is in a set\n",
        "is_green_present_deva = \"green\" in colors\n",
        "print(is_green_present_deva)\n",
        "\n",
        "#Iterating through elements\n",
        "for color in colors:\n",
        "  print(color)\n",
        "\n",
        "#Creating an imutable set (frozenset)\n",
        "immutable_colors_burr = frozenset(colors)\n",
        "print(immutable_colors_burr)\n"
      ],
      "metadata": {
        "id": "Ce6ZJYVHrYj5"
      },
      "execution_count": null,
      "outputs": []
    },
    {
      "cell_type": "markdown",
      "source": [
        "Dictionary\n"
      ],
      "metadata": {
        "id": "Zz-g0JdxYiV_"
      }
    },
    {
      "cell_type": "code",
      "source": [
        "#Dictionary\n",
        "#Creating a dictionary\n",
        "\n",
        "person = {\"name\": \"Alice\", \"age\": 30, \"city\": \"Wonderland\"}\n",
        "print(person)\n",
        "\n",
        "#Accessing values using keys\n",
        "name = person[\"name\"]\n",
        "print(name)\n",
        "age = person[\"age\"]\n",
        "print(age)\n",
        "\n",
        "\n",
        "#Modifying a value\n",
        "person[\"age\"]= 31\n",
        "print(person[\"age\"])\n",
        "\n",
        "\n",
        "#Adding a new key-value pair\n",
        "person[\"occupation\"] = \"Engineer\"\n",
        "print(person[\"occupation\"])\n",
        "\n",
        "\n",
        "print(person)"
      ],
      "metadata": {
        "id": "7Ak7Lt52s7R1"
      },
      "execution_count": null,
      "outputs": []
    },
    {
      "cell_type": "code",
      "source": [
        "#Removing a key-value pair\n",
        "del person[\"city\"]\n",
        "print(person)\n",
        "\n",
        "#Checking if a key exists\n",
        "is_city_present = \"city\" in person\n",
        "print(is_city_present)\n",
        "\n",
        "#Iterating through keys\n",
        "for key in person:\n",
        "  print(key, person [key])\n",
        "\n",
        "#Getting all keys\n",
        "keys = person.keys()\n",
        "print(keys)\n",
        "\n",
        "#Getting all values\n",
        "values = person.values()\n",
        "print(values)\n",
        "\n",
        "#Getting key-value pairs as tuples\n",
        "items = person.items()\n",
        "print(items)"
      ],
      "metadata": {
        "id": "rdpYiz-FtirC"
      },
      "execution_count": null,
      "outputs": []
    },
    {
      "cell_type": "markdown",
      "source": [
        "String\n"
      ],
      "metadata": {
        "id": "bmGk3xwJYvH8"
      }
    },
    {
      "cell_type": "code",
      "source": [
        "#Creating Strings Using single quotes\n",
        "single_quoted = 'Hello, World!'\n",
        "print(single_quoted)\n",
        "\n",
        "#Creating Strings Using double quotes\n",
        "double_quoted = \"Python is great!\"\n",
        "print(double_quoted)\n",
        "\n",
        "#Creating Strings Multiline string\n",
        "multiline = \"\"\"This is a multiline string.\"\"\"\n",
        "print(multiline)\n",
        "\n",
        "\n",
        "\n",
        "#Accessing characters by index\n",
        "first_char = single_quoted[0]\n",
        "print(first_char)\n",
        "\n",
        "\n",
        "#Slicing to get a substring\n",
        "substring = single_quoted[7:12]\n",
        "print(substring)\n",
        "\n",
        "\n",
        "#Concatenating strings\n",
        "\n",
        "full_string = single_quoted+ \" \" +double_quoted\n",
        "print(full_string)"
      ],
      "metadata": {
        "id": "CV2lhzpnZEQS"
      },
      "execution_count": null,
      "outputs": []
    },
    {
      "cell_type": "code",
      "source": [
        "#Converting to uppercase\n",
        "upper_case = single_quoted.upper()\n",
        "print(upper_case)\n",
        "\n",
        "# Finding the index of a substring\n",
        "index_of_world = single_quoted.find(\"World\")\n",
        "print(index_of_world)\n",
        "\n",
        "#Replacing part of a string\n",
        "new_string = single_quoted.replace(\"Hello\", \"Greetings\")\n",
        "print(new_string)\n",
        "\n",
        "\n",
        "#Using f-strings (formatted string literals)\n",
        "name = \"Alice\"\n",
        "formatted_greeting = f\"Hello, {name}!\"\n",
        "print(formatted_greeting)\n",
        "\n",
        "\n",
        "#Using escape characters\n",
        "escaped_string = \"This is a \\\"quoted\\\" string.\"\n",
        "\n",
        "print(escaped_string)"
      ],
      "metadata": {
        "id": "53-9q42TaF49"
      },
      "execution_count": null,
      "outputs": []
    },
    {
      "cell_type": "markdown",
      "source": [
        "Control structures and loops"
      ],
      "metadata": {
        "id": "b5NeYO1aa7Yk"
      }
    },
    {
      "cell_type": "code",
      "source": [
        "#Basic if Statement\n",
        "\n",
        "x= 10\n",
        "if x > 0:\n",
        "  print(\"Positive number\")\n",
        "  #the code inside the if block will only execute if the condition x > 0 is True."
      ],
      "metadata": {
        "id": "6KKTpzfma9A-"
      },
      "execution_count": null,
      "outputs": []
    },
    {
      "cell_type": "code",
      "source": [
        "#if-else Statement\n",
        "\n",
        "y=-5\n",
        "if y > 0:\n",
        "  print(\"Positive number\")\n",
        "else:\n",
        "  print(\"Non-positive number\")\n",
        "  #If the condition (y > 0) is True, the code inside the first block will execute.\n",
        "  #Otherwise, the code inside the else block will execute."
      ],
      "metadata": {
        "id": "7ZqnQttrbK-Y"
      },
      "execution_count": null,
      "outputs": []
    },
    {
      "cell_type": "code",
      "source": [
        "#if-elif-else statement\n",
        "\n",
        "x= 10\n",
        "if x > 0:\n",
        "  print(\"x is a positive number.\")\n",
        "elif x == 0:\n",
        "  print(\"x is zero.\")\n",
        "else:\n",
        "  print(\"x is a negative number.\")"
      ],
      "metadata": {
        "id": "S03Q7hxBbcaY"
      },
      "execution_count": null,
      "outputs": []
    },
    {
      "cell_type": "code",
      "source": [
        "#Nested if Statements\n",
        "\n",
        "a = 15\n",
        "if a > 0:\n",
        "  print(\"Positive number\")\n",
        "  if a % 2 == 0:\n",
        "    print(\"Even number\")\n",
        "  else:\n",
        "    print(\"Odd number\")\n",
        "\n",
        "else:\n",
        "  print(\"Non-positive number\")\n",
        "  #You can nest if statements inside other if statements for more complex decision-making."
      ],
      "metadata": {
        "id": "vBwVK36Eb58r"
      },
      "execution_count": null,
      "outputs": []
    },
    {
      "cell_type": "code",
      "source": [
        "#Ternary Conditional Expression:\n",
        "\n",
        "#A ternary conditional expression provides a concise way to write an if-else statement in a single Line.\n",
        "\n",
        "age = 25\n",
        "status = \"Adult\" if age > 18 else \"Minor\"\n",
        "print(status)"
      ],
      "metadata": {
        "id": "J32nJWMfdUZj"
      },
      "execution_count": null,
      "outputs": []
    },
    {
      "cell_type": "markdown",
      "source": [
        "Loops\n"
      ],
      "metadata": {
        "id": "y7m9XPVLdplH"
      }
    },
    {
      "cell_type": "code",
      "source": [
        "# Using for loop to iterate over a list\n",
        "\n",
        "fruits = [\"apple\", \"orange\", \"banana\"]\n",
        "for fruit in fruits:\n",
        "  print(fruit)"
      ],
      "metadata": {
        "id": "QoPxyiOxdmsM"
      },
      "execution_count": null,
      "outputs": []
    },
    {
      "cell_type": "code",
      "source": [
        "#Using range() to Generate a Sequence:\n",
        "\n",
        "for i in range(5):\n",
        "  print(i)\n",
        "\n",
        "\n",
        "#Specifying a Start and Stop Value:\n",
        "for i in range(2, 8):\n",
        "  print(1)\n",
        "\n",
        "\n",
        "#Adding a Step:\n",
        "for i in range(1, 10, 2):\n",
        "  print(1)\n",
        "\n"
      ],
      "metadata": {
        "id": "puqUNm7Begsq"
      },
      "execution_count": null,
      "outputs": []
    },
    {
      "cell_type": "code",
      "source": [
        "#using range() in Other Contexts:\n",
        "#Creating a List from a range\n",
        "numbers = list(range (5))\n",
        "print(numbers)"
      ],
      "metadata": {
        "id": "pnOV60YJhKCx"
      },
      "execution_count": null,
      "outputs": []
    },
    {
      "cell_type": "code",
      "source": [
        "#Enumerate in for loop\n",
        "#Using enumerate to get both index and value\n",
        "fruits = [\"apple\", \"orange\", \"banana\"]\n",
        "for index, fruit in enumerate(fruits):\n",
        "  print(f\"Index: {index}, Fruit: {fruit}\")"
      ],
      "metadata": {
        "id": "0GUcDr7phNCv"
      },
      "execution_count": null,
      "outputs": []
    },
    {
      "cell_type": "code",
      "source": [
        "#while loop\n",
        "#Using while loop for repeated execution\n",
        "\n",
        "count = 0\n",
        "while count < 5:\n",
        "  print(count)\n",
        "  count += 1\n"
      ],
      "metadata": {
        "id": "F_VOPu0mhhRg"
      },
      "execution_count": null,
      "outputs": []
    },
    {
      "cell_type": "code",
      "source": [
        "#Creating an infinite Loop\n",
        "\n",
        "while True:\n",
        "  print(\"This is an infinite loop\")\n",
        "  #Use a break statement to exit the Loop under certain conditions\n",
        "  break"
      ],
      "metadata": {
        "id": "lP3Exe73h6eu"
      },
      "execution_count": null,
      "outputs": []
    },
    {
      "cell_type": "code",
      "source": [
        "# Break and continue Statements\n",
        "# Using break to exit a Loop\n",
        "for num in range(10):\n",
        "  if num == 5:\n",
        "    break\n",
        "  print(num)\n",
        "\n",
        "# Using continue to skip an iteration\n",
        "for num in range(10):\n",
        "  if num == 5:\n",
        "    continue\n",
        "  print(num)"
      ],
      "metadata": {
        "id": "VTHQ_5RojfyC"
      },
      "execution_count": null,
      "outputs": []
    },
    {
      "cell_type": "markdown",
      "source": [
        "String manipulation"
      ],
      "metadata": {
        "id": "qSE0eR8Fj3sR"
      }
    },
    {
      "cell_type": "code",
      "source": [
        "#String Concatenation\n",
        "\n",
        "str1 = \"Hello\"\n",
        "str2 = \"World\"\n",
        "result = str1 + \" \" + str2\n",
        "print(result)\n",
        "#Output: Hello World"
      ],
      "metadata": {
        "id": "HyNqYE7_j4ql"
      },
      "execution_count": null,
      "outputs": []
    },
    {
      "cell_type": "code",
      "source": [
        "#String interpolation\n",
        "\n",
        "\n",
        "name = \"Alice\"\n",
        "age = 25\n",
        "\n",
        "message = f\"My name is {name} and I am {age} years old.\"\n",
        "print(message)\n",
        "#Output: My name is Alice and I am 25 years old."
      ],
      "metadata": {
        "id": "BfxdDjmckI09"
      },
      "execution_count": null,
      "outputs": []
    },
    {
      "cell_type": "code",
      "source": [
        "#String methods\n",
        "\n",
        "text = \" Hello, World! \"\n",
        "print(text.lower()) # Convert to Lowercase\n",
        "print(text.upper()) # Convert to uppercase\n",
        "print(text.strip()) # Remove Leading and trailing whitespaces\n",
        "print(text.replace(\"Hello\", \"Hi\")) # Replace substring"
      ],
      "metadata": {
        "id": "GStrgiBbk35a"
      },
      "execution_count": null,
      "outputs": []
    },
    {
      "cell_type": "code",
      "source": [
        "#String splitting and joining\n",
        "\n",
        "csv_data = \"apple, orange, banana\"\n",
        "fruits_list = csv_data.split(\",\")\n",
        "print(fruits_list)\n",
        "#Output: ['apple', 'orange', 'banana']\n",
        "\n",
        "separator = \" - \"\n",
        "new_string = separator.join(fruits_list)\n",
        "print(new_string)\n",
        "#Output: apple-orange-banana"
      ],
      "metadata": {
        "id": "_hqe-9nqlWF6"
      },
      "execution_count": null,
      "outputs": []
    },
    {
      "cell_type": "code",
      "source": [
        "#Checking string\n",
        "\n",
        "text = \"Python is powerful\"\n",
        "if \"power\" in text:\n",
        "  print(\"Substring found\")\n",
        "#Output: Substring found"
      ],
      "metadata": {
        "id": "nQ2Bu4LnmL1y"
      },
      "execution_count": null,
      "outputs": []
    },
    {
      "cell_type": "code",
      "source": [
        "#Formatting string\n",
        "\n",
        "name = \"Bob\"\n",
        "age = 30\n",
        "formatted_string = \"My name is {} and I am {} years old.\".format(name, age)\n",
        "print(formatted_string)\n",
        "#Output: My name is Bob and I am 30 years old."
      ],
      "metadata": {
        "id": "tssNJZA2mOvw"
      },
      "execution_count": null,
      "outputs": []
    },
    {
      "cell_type": "markdown",
      "source": [
        "File handling"
      ],
      "metadata": {
        "id": "P6-3le3JnA3t"
      }
    },
    {
      "cell_type": "code",
      "source": [
        "#Reading from a file\n",
        "file_path = \"example.txt\"\n",
        "\n",
        "with open(file_path, \"r\") as file:\n",
        "  content = file.read()\n",
        "  print(content)\n",
        "\n",
        "#open(file_path, \"r\"): Opens the file in read mode. \\\n",
        "#with: Ensures proper file closure."
      ],
      "metadata": {
        "id": "nL929ib-m-1B"
      },
      "execution_count": null,
      "outputs": []
    },
    {
      "cell_type": "code",
      "source": [
        "#Writing to output.txt file\n",
        "#Writing to a file\n",
        "file_path = \"output.txt\"\n",
        "\n",
        "with open(file_path, \"w\") as file:\n",
        "  file.write(\"Hello, this is a new file.\")\n"
      ],
      "metadata": {
        "id": "Xscpjg92slX_"
      },
      "execution_count": null,
      "outputs": []
    },
    {
      "cell_type": "code",
      "source": [
        "#Appending text to output.txt\n",
        "\n",
        "# Appending to a file\n",
        "file_path = \"output.txt\"\n",
        "\n",
        "with open(file_path, \"a\") as file:\n",
        "  file.write(\"\\nAppending more content to the file.\")"
      ],
      "metadata": {
        "id": "Cf3j6_ukst_D"
      },
      "execution_count": null,
      "outputs": []
    },
    {
      "cell_type": "code",
      "source": [
        "#Reading Line by Line from output.txt\n",
        "# Reading a file line by line using readline() file_path = \"output.txt\"\n",
        "\n",
        "with open(file_path, \"r\") as file:\n",
        "line1 = file.readline()\n",
        "line2 = file.readline()\n",
        "\n",
        "print(\"Line 1:\", line1.strip()) # strip() removes leading and trailing whitespaces\n",
        "print(\"Line 2:\", line2.strip())"
      ],
      "metadata": {
        "id": "dt7NJQsDs9Ax"
      },
      "execution_count": null,
      "outputs": []
    },
    {
      "cell_type": "code",
      "source": [
        "# Working with binary files\n",
        "# Reading a binary file\n",
        "\n",
        "binary_file_path = \"image.jpg\"\n",
        "\n",
        "with open(binary_file_path, \"rb\") as binary_file:\n",
        "  binary_data = binary_file.read()\n",
        "  print(binary_data)\n",
        "  # Process binary data as needed"
      ],
      "metadata": {
        "id": "aQFUv-8PvQqp"
      },
      "execution_count": null,
      "outputs": []
    },
    {
      "cell_type": "code",
      "source": [
        "#Exception handling\n",
        "\n",
        "file_path = \"nonexistent_file.txt\"\n",
        "\n",
        "try:\n",
        "  with open(file_path, \"r\") as file:\n",
        "    content = file.read()\n",
        "    print(content)\n",
        "\n",
        "except FileNotFoundError:\n",
        "  print(f\"The file {file_path} does not exist.\")"
      ],
      "metadata": {
        "id": "baJ5O9zevQ3Y"
      },
      "execution_count": null,
      "outputs": []
    },
    {
      "cell_type": "markdown",
      "source": [
        "Functions and modules"
      ],
      "metadata": {
        "id": "ETPmFtxrv2qU"
      }
    },
    {
      "cell_type": "code",
      "source": [
        "#Functions\n",
        "# Function definition\n",
        "\n",
        "def add_numbers(a, b):\n",
        "  \"\"\"Add two numbers.\"\"\"\n",
        "  return a + b\n",
        "\n",
        "#Function call\n",
        "result = add_numbers(3,5)\n",
        "print(\"Result of addition:\", result)\n"
      ],
      "metadata": {
        "id": "zuHf9YpGv3V2"
      },
      "execution_count": null,
      "outputs": []
    },
    {
      "cell_type": "code",
      "source": [
        "#Code to create math_operations.py\n",
        "#math_operations.py\n",
        "\n",
        "def multiply(a, b):\n",
        "  \"\"\"Multiply two numbers.\"\"\"\n",
        "  return a * b\n",
        "\n",
        "def square(x):\n",
        "  \"\"\"Calculate the square of a number.\"\"\"\n",
        "  return x ** 2"
      ],
      "metadata": {
        "id": "jir41OnRv3fx"
      },
      "execution_count": null,
      "outputs": []
    },
    {
      "cell_type": "code",
      "source": [
        "# Importing math_operations.py\n",
        "# make sure math_operations.py is stored at same location where this calling file created and running\n",
        "\n",
        "import math_operations\n",
        "\n",
        "result_multiply = math_operations.multiply(4, 6)\n",
        "result_square = math_operations.square(3)\n",
        "\n",
        "print(\"Result of multiplication:\", result_multiply)\n",
        "print(\"Result of squaring:\", result_square)"
      ],
      "metadata": {
        "id": "pxeMzfVrv9EI"
      },
      "execution_count": null,
      "outputs": []
    },
    {
      "cell_type": "markdown",
      "source": [
        "Object-Oriented Programming"
      ],
      "metadata": {
        "id": "TcvRbQNXusjB"
      }
    },
    {
      "cell_type": "code",
      "source": [
        "#class and objects\n",
        "class Car:\n",
        "\n",
        "  def __init__(self, make, model, year):\n",
        "    self.make = make\n",
        "    self.model = model\n",
        "    self.year = year\n",
        "\n",
        "  def display_info(self):\n",
        "    print(f\"{self.year}{self.make}{self.model}\")\n",
        "\n",
        "#Creating objects (instances of the Car class)\n",
        "car1 = Car(\"Toyota\", \"Camry\", 2022)\n",
        "car2 = Car(\"Honda\", \"Civic\", 2021)\n",
        "\n",
        "#Accessing attributes and calling methods\n",
        "car1.display_info() # Output: 2022 Toyota Camry\n",
        "car2.display_info() # Output: 2021 Honda Civic"
      ],
      "metadata": {
        "id": "el0aiDrSuIqk"
      },
      "execution_count": null,
      "outputs": []
    },
    {
      "cell_type": "code",
      "source": [
        "#Constructors\n",
        "class Person:\n",
        "  def __init__(self, name, age):\n",
        "    self.name = name\n",
        "    self.age = age\n",
        "\n",
        "#Creating objects and initializing attributes\n",
        "person1 = Person(\"Alice\", 30)\n",
        "person2 = Person(\"Bob\", 25)\n",
        "\n",
        "print(f\"{person1.name} is {person1.age} year old. \")\n"
      ],
      "metadata": {
        "id": "chilmVt0utdK"
      },
      "execution_count": null,
      "outputs": []
    },
    {
      "cell_type": "code",
      "source": [
        "#Inheritance\n",
        "\n",
        "class Animal:\n",
        "  def __init__(self, name):\n",
        "    self.name = name\n",
        "\n",
        "  def speak(self):\n",
        "    pass # Abstract method\n",
        "\n",
        "class Cat(Animal):\n",
        "  def speak(self):\n",
        "    print(f\"{self.name} says Meow!\")\n",
        "\n",
        "class Dog(Animal):\n",
        "  def speak(self):\n",
        "    print(f\"{self.name} says Woof!\")\n",
        "\n",
        "# Creating objects and calling methods\n",
        "cat = Cat(\"Whiskers\")\n",
        "dog = Dog(\"Buddy\")\n",
        "\n",
        "cat.speak() # Output: Whiskers says Meow!\n",
        "dog.speak() # Output: Buddy says Woof!"
      ],
      "metadata": {
        "id": "_t4T_92-uviB"
      },
      "execution_count": null,
      "outputs": []
    },
    {
      "cell_type": "code",
      "source": [
        "#Encapsulation\n",
        "\n",
        "class Circle:\n",
        "  def __init__(self, radius):\n",
        "    self._radius = radius # Single underscore indicates a protected attribute\n",
        "\n",
        "  def get_area(self):\n",
        "    return 3.14 * self._radius **2\n",
        "\n",
        "#Creating an object and accessing methods\n",
        "circle = Circle(5)\n",
        "area = circle.get_area()\n",
        "print(f\"Area of the circle: {area}\")"
      ],
      "metadata": {
        "id": "oJ_JGhGfvk4w"
      },
      "execution_count": null,
      "outputs": []
    },
    {
      "cell_type": "code",
      "source": [
        "#Polymorphism\n",
        "\n",
        "class Bird:\n",
        "  def fly(self):\n",
        "    pass # Abstract method\n",
        "\n",
        "class Sparrow(Bird):\n",
        "  def fly(self):\n",
        "    print(\"Sparrow is flying.\")\n",
        "\n",
        "class Penguin(Bird):\n",
        "  def swim(self):\n",
        "    print(\"Penguin is swimming.\")\n",
        "\n",
        "\n",
        "#Using polymorphism\n",
        "sparrow = Sparrow()\n",
        "penguin = Penguin()\n",
        "\n",
        "def perform_flight(bird):\n",
        "  bird.fly()\n",
        "\n",
        "perform_flight(sparrow)    # Output: Sparrow is flying.\n",
        "perform_flight(penguin)    # No error, even though Penguin doesn't have a fly method."
      ],
      "metadata": {
        "id": "JZOx7_IEqETR"
      },
      "execution_count": null,
      "outputs": []
    },
    {
      "cell_type": "markdown",
      "source": [
        "Error handling and exception handling"
      ],
      "metadata": {
        "id": "25jTzeanqhNo"
      }
    },
    {
      "cell_type": "code",
      "source": [
        "#try...except\n",
        "\n",
        "try:\n",
        "  #Code that may raise an exception\n",
        "  result = 10/0\n",
        "\n",
        "except ZeroDivisionError:\n",
        "  #Handle the specific exception\n",
        "  print(\"Error: Division by zero\")\n",
        "\n",
        "except Exception as e:\n",
        "  #Handle other exceptions\n",
        "  print(f\"An error occurred: {e}\")\n",
        "\n",
        "finally:\n",
        "  #Optional: Code that will be executed regardless of whether an exception occurred\n",
        "  print(\"Finally block Cleanup or finalization code\")"
      ],
      "metadata": {
        "id": "GtJFB4ObqiC3"
      },
      "execution_count": null,
      "outputs": []
    },
    {
      "cell_type": "code",
      "source": [
        "Multiple exceptions"
      ],
      "metadata": {
        "id": "K70DGZ8pqzhh"
      },
      "execution_count": null,
      "outputs": []
    },
    {
      "cell_type": "code",
      "source": [
        "#Multiple exceptions\n",
        "\n",
        "try:\n",
        "  num = int(input(\"Enter a number: \"))\n",
        "  result = 10/ num\n",
        "\n",
        "except ValueError:\n",
        "  print(\"Error: Invalid input. Please enter a valid number.\")\n",
        "\n",
        "except ZeroDivisionError:\n",
        "  print(\"Error: Division by zero\")\n",
        "\n",
        "except Exception as e:\n",
        "  print(f\"An error occurred: {e}\")"
      ],
      "metadata": {
        "id": "f6rkFGUyq0NU"
      },
      "execution_count": null,
      "outputs": []
    },
    {
      "cell_type": "code",
      "source": [
        "# else clause\n",
        "\n",
        "try:\n",
        "  num = int(input(\"Enter a number: \"))\n",
        "  result = 10/num\n",
        "\n",
        "except ValueError:\n",
        "  print(\"Error: Invalid input. Please enter a valid number.\")\n",
        "\n",
        "except ZeroDivisionError:\n",
        "  print(\"Error: Division by zero\")\n",
        "\n",
        "except Exception as e:\n",
        "  print(f\"An error occurred: {e}\")\n",
        "\n",
        "else:\n",
        "  print(f\"Result: {result}\")"
      ],
      "metadata": {
        "id": "wjfZtjQ-rPVQ"
      },
      "execution_count": null,
      "outputs": []
    },
    {
      "cell_type": "code",
      "source": [
        "#Custom exceptions\n",
        "\n",
        "class CustomError(Exception):\n",
        "  def __init__(self, message=\"Custom error occurred\"):\n",
        "    self.message = message\n",
        "    super().__init__(self.message)\n",
        "\n",
        "try:\n",
        "  raise CustomError(\"This is a custom exception\")\n",
        "except CustomError as ce:\n",
        "  print(f\"Caught a custom exception: {ce}\")"
      ],
      "metadata": {
        "id": "YbJOd1yTrljy"
      },
      "execution_count": null,
      "outputs": []
    },
    {
      "cell_type": "code",
      "source": [
        "# finally block\n",
        "\n",
        "try:\n",
        "  file= open(\"text.txt\", \"r\")\n",
        "  content = file.read()\n",
        "  print(content)\n",
        "\n",
        "except FileNotFoundError:\n",
        "  print(\"Error: File not found\")\n",
        "\n",
        "except Exception as e:\n",
        "  print(f\"An error occurred: {e}\")\n",
        "\n",
        "finally:\n",
        "  if 'file' in locals():\n",
        "    file.close() # Close the file even if an exception occurred\n"
      ],
      "metadata": {
        "id": "m0vfdkUKr4tf"
      },
      "execution_count": null,
      "outputs": []
    },
    {
      "cell_type": "markdown",
      "source": [
        "Advanced Python concepts"
      ],
      "metadata": {
        "id": "BFXyMPoQsHPm"
      }
    },
    {
      "cell_type": "code",
      "source": [
        "# Decorators\n",
        "\n",
        "#Simple decorator\n",
        "\n",
        "def my_decorator(func):\n",
        "  def wrapper():\n",
        "    print(\"Something is happening before the function is called.\")\n",
        "    func()\n",
        "    print(\"Something is happening after the function is called.\")\n",
        "  return wrapper\n",
        "\n",
        "@my_decorator\n",
        "def say_hello():\n",
        "  print(\"Hello!\")\n",
        "\n",
        "#Using the decorated function\n",
        "say_hello()"
      ],
      "metadata": {
        "id": "zPkjOYaGsFbj"
      },
      "execution_count": null,
      "outputs": []
    },
    {
      "cell_type": "code",
      "source": [
        "# Generators\n",
        "\n",
        "# Generator function\n",
        "def countdown(n):\n",
        "  while n > 0:\n",
        "    yield n\n",
        "    n -= 1\n",
        "\n",
        "# Using the generator\n",
        "for i in countdown(5):\n",
        "  print(i)"
      ],
      "metadata": {
        "id": "kzebTI5Qs-bf"
      },
      "execution_count": null,
      "outputs": []
    },
    {
      "cell_type": "code",
      "source": [
        "# Context Managers\n",
        "\n",
        "# Custom context manager\n",
        "\n",
        "class MyContextManager:\n",
        "  def __enter__(self):\n",
        "    print(\"Entering the context\")\n",
        "    return self # Can return any value\n",
        "\n",
        "  def __exit__( self, exc_type, exc_value, traceback):\n",
        "    print(\"Exiting the context\")\n",
        "    # Perform cleanup actions if needed\n",
        "\n",
        "# Using the context manager\n",
        "with MyContextManager() as cm:\n",
        "  print(\"Inside the context\")"
      ],
      "metadata": {
        "id": "Bs9Gde1btK0x"
      },
      "execution_count": null,
      "outputs": []
    },
    {
      "cell_type": "code",
      "source": [
        "#Metaclasses\n",
        "\n",
        "# Custom metaclass\n",
        "\n",
        "class MyMeta(type):\n",
        "  def __new__(cls, name, bases, dct):\n",
        "    # Modify or inspect the class before it's created\n",
        "    return super(). __new__ (cls, name, bases, dct)\n",
        "\n",
        "# Using the metaclass\n",
        "class MyClass(metaclass = MyMeta):\n",
        "  pass"
      ],
      "metadata": {
        "id": "Pk-SUnKAtnsL"
      },
      "execution_count": 12,
      "outputs": []
    },
    {
      "cell_type": "markdown",
      "source": [
        "Data visualization with matplotlib"
      ],
      "metadata": {
        "id": "IoTDMja_t8q3"
      }
    },
    {
      "cell_type": "code",
      "source": [
        "#Import necessary Libraries\n",
        "\n",
        "import numpy as np\n",
        "import matplotlib.pyplot as plt\n",
        "from sklearn.linear_model import LinearRegression\n",
        "from sklearn.model_selection import train_test_split\n",
        "from sklearn.metrics import mean_squared_error\n",
        "\n",
        "#Generate sample data np.random.seed (42)\n",
        "X = 2 * np.random.rand(100, 1)\n",
        "y = 4 + 3*X + np.random.randn(100, 1)\n",
        "\n",
        "#Split the data into training and testing sets\n",
        "X_train, X_test, y_train, y_test = train_test_split(X, y, test_size=0.2, random_state=42)\n",
        "\n",
        "#Create and train a Linear regression model\n",
        "model = LinearRegression()\n",
        "model.fit(X_train, y_train)\n",
        "\n",
        "#Make predictions on the test set\n",
        "y_pred = model.predict(X_test)\n",
        "\n",
        "#Evaluate the model\n",
        "mse = mean_squared_error(y_test, y_pred)\n",
        "print(f\"Mean Squared Error: {mse}\")\n",
        "\n",
        "#Visualize the results\n",
        "plt.scatter(X_test, y_test, color='black', label='Actual data')\n",
        "plt.plot(X_test, y_pred, color='blue', linewidth=3, label='Regression line')\n",
        "plt.xlabel('X')\n",
        "plt.ylabel('y')\n",
        "plt.legend()\n",
        "plt.title('Linear Regression Example')\n",
        "plt.show()"
      ],
      "metadata": {
        "id": "d1aUlPfvt9St"
      },
      "execution_count": null,
      "outputs": []
    }
  ]
}