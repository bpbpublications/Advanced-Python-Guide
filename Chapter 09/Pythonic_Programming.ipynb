{
  "nbformat": 4,
  "nbformat_minor": 0,
  "metadata": {
    "colab": {
      "provenance": []
    },
    "kernelspec": {
      "name": "python3",
      "display_name": "Python 3"
    },
    "language_info": {
      "name": "python"
    }
  },
  "cells": [
    {
      "cell_type": "markdown",
      "source": [
        "Idiomatic Python code\n"
      ],
      "metadata": {
        "id": "WtkRMD2pvtVs"
      }
    },
    {
      "cell_type": "code",
      "source": [
        "#Non-Pythonic/non- Idiomatic code\n",
        "\n",
        "sum_of_squares = 0\n",
        "for number in range(1, 11):\n",
        "  if number % 2 == 0:\n",
        "    sum_of_squares += number**2"
      ],
      "metadata": {
        "id": "1vkaE0iNyKTf"
      },
      "execution_count": 2,
      "outputs": []
    },
    {
      "cell_type": "code",
      "source": [
        " #Pythonic/Idiomatic code\n",
        "\n",
        "sum_of_squares = sum(x** 2 for x in range(2, 11, 2))\n",
        "\n",
        "sum_of_squares"
      ],
      "metadata": {
        "id": "-iba-5OV0L7j"
      },
      "execution_count": null,
      "outputs": []
    },
    {
      "cell_type": "markdown",
      "source": [
        "List comprehensions"
      ],
      "metadata": {
        "id": "zP2Fe1EV0lCa"
      }
    },
    {
      "cell_type": "code",
      "source": [
        "#Generating a list of squares\n",
        "\n",
        "squares = [x ** 2 for x in range(1, 6)]\n",
        "squares"
      ],
      "metadata": {
        "colab": {
          "base_uri": "https://localhost:8080/"
        },
        "id": "Dn6Ck80p0l1R",
        "outputId": "1bd6a579-f4a3-4280-97fc-fe0cefccf191"
      },
      "execution_count": 4,
      "outputs": [
        {
          "output_type": "execute_result",
          "data": {
            "text/plain": [
              "[1, 4, 9, 16, 25]"
            ]
          },
          "metadata": {},
          "execution_count": 4
        }
      ]
    },
    {
      "cell_type": "code",
      "source": [
        "#Filtering even numbers\n",
        "\n",
        "\n",
        "even_numbers = [x for x in range(1, 11) if x % 2 == 0]\n",
        "even_numbers\n"
      ],
      "metadata": {
        "colab": {
          "base_uri": "https://localhost:8080/"
        },
        "id": "OtJ-NyJf0ovc",
        "outputId": "cd92f5f4-f879-46e8-bf01-53a1fd54bb08"
      },
      "execution_count": 5,
      "outputs": [
        {
          "output_type": "execute_result",
          "data": {
            "text/plain": [
              "[2, 4, 6, 8, 10]"
            ]
          },
          "metadata": {},
          "execution_count": 5
        }
      ]
    },
    {
      "cell_type": "code",
      "source": [
        "#Transforming a string\n",
        "\n",
        "\n",
        "text = \"Hello, World!\"\n",
        "letters = [char for char in text if char.isalpha()]\n",
        "letters"
      ],
      "metadata": {
        "id": "IXFq61XF0urk"
      },
      "execution_count": null,
      "outputs": []
    },
    {
      "cell_type": "code",
      "source": [
        "# Nested list comprehension\n",
        "\n",
        "\n",
        "list1 = [1, 2, 3]\n",
        "list2 = [10, 20, 30]\n",
        "pairs = [(x, y) for x in list1 for y in list2]\n",
        "\n",
        "pairs"
      ],
      "metadata": {
        "id": "126qLNUR0vet"
      },
      "execution_count": null,
      "outputs": []
    },
    {
      "cell_type": "markdown",
      "source": [
        "Iterators"
      ],
      "metadata": {
        "id": "CFAmbplS1qgH"
      }
    },
    {
      "cell_type": "code",
      "source": [
        "class MyIterator:\n",
        "\n",
        "  def __init__(self, start, end):\n",
        "    self.start = start\n",
        "    self.end = end\n",
        "\n",
        "  def __iter__(self):\n",
        "    return self\n",
        "\n",
        "  def __next__(self):\n",
        "    if self.start < self.end:\n",
        "      value = self.start\n",
        "      self.start += 1\n",
        "      return value\n",
        "    raise StopIteration\n",
        "\n",
        "# Using the iterator\n",
        "my_iterator = MyIterator(1, 5)\n",
        "for item in my_iterator:\n",
        "  print(item)"
      ],
      "metadata": {
        "id": "kOw7chOW1sL0"
      },
      "execution_count": null,
      "outputs": []
    },
    {
      "cell_type": "markdown",
      "source": [
        "Generators"
      ],
      "metadata": {
        "id": "6LPITc_p1vrW"
      }
    },
    {
      "cell_type": "code",
      "source": [
        "def my_generator(start, end):\n",
        "  while start < end:\n",
        "    yield start\n",
        "    start += 1\n",
        "\n",
        "# Using the generator\n",
        "gen = my_generator(1, 5)\n",
        "for item in gen:\n",
        "  print(item)"
      ],
      "metadata": {
        "id": "UgzD2zrJ1v6N"
      },
      "execution_count": null,
      "outputs": []
    },
    {
      "cell_type": "markdown",
      "source": [
        "Decorators"
      ],
      "metadata": {
        "id": "BBJRsSMs1ylR"
      }
    },
    {
      "cell_type": "code",
      "source": [
        "import time\n",
        "\n",
        "\n",
        "def measure_time(func):\n",
        "  def wrapper(*args, **kwargs):\n",
        "    start_time = time.time()\n",
        "    result = func(*args, **kwargs)\n",
        "    end_time = time.time()\n",
        "    print(f\"{func.__name__} took {end_time - start_time} seconds to run.\")\n",
        "    return result\n",
        "  return wrapper\n",
        "\n",
        "\n",
        "@measure_time\n",
        "def some_function():\n",
        "  time.sleep(2)\n",
        "\n",
        "\n",
        "\n",
        "some_function()"
      ],
      "metadata": {
        "id": "Kh1e58Ou11S9"
      },
      "execution_count": null,
      "outputs": []
    },
    {
      "cell_type": "code",
      "source": [
        "#Class decorator to automatically add properties to a class\n",
        "\n",
        "def add_properties (properties):\n",
        "  def decorator(cls):\n",
        "    for prop in properties:\n",
        "      setattr(cls, prop, property(lambda self, prop=prop: self.data[prop]))\n",
        "    return cls\n",
        "  return decorator\n",
        "\n",
        "\n",
        "@add_properties([\"name\", \"age\"])\n",
        "class Person:\n",
        "      def __init__(self, name, age):\n",
        "        self.data = {\"name\": name, \"age\": age}\n",
        "\n",
        "\n",
        "person = Person(\"Alice\", 30)\n",
        "print(person.name) # Accessing the property\n",
        "print(person.age)"
      ],
      "metadata": {
        "id": "t0V3iRux12Pn"
      },
      "execution_count": null,
      "outputs": []
    }
  ]
}