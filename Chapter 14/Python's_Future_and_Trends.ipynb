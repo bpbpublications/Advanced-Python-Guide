{
  "nbformat": 4,
  "nbformat_minor": 0,
  "metadata": {
    "colab": {
      "provenance": []
    },
    "kernelspec": {
      "name": "python3",
      "display_name": "Python 3"
    },
    "language_info": {
      "name": "python"
    }
  },
  "cells": [
    {
      "cell_type": "markdown",
      "source": [
        "Structural Pattern Matching"
      ],
      "metadata": {
        "id": "DsHxe_ZteqdY"
      }
    },
    {
      "cell_type": "code",
      "source": [
        "#Example of structural pattern matching in Python 3.10\n",
        "\n",
        "def categorize_fruit(fruit):\n",
        "  match fruit:\n",
        "    case \"apple\":\n",
        "      print(\"It's an apple!\")\n",
        "    case \"banana\":\n",
        "      print(\"It's a banana!\")\n",
        "    case _:\n",
        "      print(\"It's an unknown fruit.\")\n",
        "\n",
        "#Testing the function\n",
        "categorize_fruit(\"apple\")"
      ],
      "metadata": {
        "id": "BsbvFlNDeq_Y"
      },
      "execution_count": null,
      "outputs": []
    },
    {
      "cell_type": "markdown",
      "source": [
        "Machine learning"
      ],
      "metadata": {
        "id": "msrO1cPifNl2"
      }
    },
    {
      "cell_type": "code",
      "source": [
        "#Machine Learning with scikit-learn\n",
        "\n",
        "\n",
        "#Example of a simple machine Learning model using scikit-Learn\n",
        "from sklearn import datasets\n",
        "from sklearn.model_selection import train_test_split\n",
        "from sklearn.ensemble import RandomForestClassifier\n",
        "from sklearn.metrics import accuracy_score\n",
        "\n",
        "#Loading the Iris dataset\n",
        "iris = datasets.load_iris()\n",
        "X_train, X_test, y_train, y_test = train_test_split(iris.data, iris.target, test_size=0.2, random_state=42)\n",
        "\n",
        "#Creating a Random ForestClassifier\n",
        "model = RandomForestClassifier(n_estimators=100, random_state=42)\n",
        "model.fit(X_train, y_train)\n",
        "\n",
        "#Making predictions\n",
        "predictions = model.predict(X_test)\n",
        "\n",
        "#Evaluating accuracy\n",
        "accuracy = accuracy_score(y_test, predictions)\n",
        "print(f\"Accuracy: {accuracy}\")\n"
      ],
      "metadata": {
        "id": "paeeexe6fOLa"
      },
      "execution_count": null,
      "outputs": []
    },
    {
      "cell_type": "markdown",
      "source": [
        "Data science"
      ],
      "metadata": {
        "id": "CE9QBDdsgC4y"
      }
    },
    {
      "cell_type": "code",
      "source": [
        "\n",
        "#Import necessary libraries\n",
        "import pandas as pd\n",
        "import matplotlib.pyplot as plt\n",
        "from sklearn.model_selection import train_test_split\n",
        "from sklearn.neighbors import KNeighborsClassifier\n",
        "from sklearn.metrics import accuracy_score"
      ],
      "metadata": {
        "id": "1wKPJa8ugIUk"
      },
      "execution_count": null,
      "outputs": []
    },
    {
      "cell_type": "code",
      "source": [
        "#Load the Iris dataset\n",
        "\n",
        "from sklearn.datasets import load_iris\n",
        "iris = load_iris()\n",
        "data = pd.DataFrame(data = iris.data, columns = iris.featur_names)\n",
        "data['target'] = iris.target\n",
        "data"
      ],
      "metadata": {
        "id": "Bl5LqGbjggAp"
      },
      "execution_count": null,
      "outputs": []
    },
    {
      "cell_type": "code",
      "source": [
        "#Visualize the dataset\n",
        "\n",
        "plt.figure(figsize=(6, 4))\n",
        "plt.scatter(data['sepal length (cm)'], data['sepal width (cm)'], c=data['target'], cmap='viridis')\n",
        "plt.xlabel('Sepal Length (cm)')\n",
        "plt.ylabel('Sepal Width (cm)')\n",
        "plt.title('Iris Dataset - Sepal Dimensions')\n",
        "plt.show()"
      ],
      "metadata": {
        "id": "A8Xxy_fuguVy"
      },
      "execution_count": null,
      "outputs": []
    },
    {
      "cell_type": "code",
      "source": [
        "#Split the dataset into features (X) and target variable (y)\n",
        "\n",
        "X = data.iloc[:, :-1]\n",
        "y = data['target']\n",
        "\n",
        "#Split the dataset into training and testing sets\n",
        "X_train, X_test, y_train, y_test = train_test_split(X, y, test_size=0.2, random_state=42)\n",
        "\n",
        "# Initialize the K-Nearest Neighbors classifier\n",
        "knn_classifier = KNeighborsClassifier(n_neighbors=3)\n",
        "\n",
        "# Train the classifier\n",
        "knn_classifier.fit(X_train, y_train)"
      ],
      "metadata": {
        "id": "Zxg1nW19g9cK"
      },
      "execution_count": null,
      "outputs": []
    },
    {
      "cell_type": "code",
      "source": [
        "#Make prediction and evaluate the accuracy\n",
        "\n",
        "#Make predictions on the test set\n",
        "y_pred = knn_classifier.predict(X_test)\n",
        "\n",
        "# Evaluate the accuracy of the model\n",
        "accuracy = accuracy_score(y_test, y_pred)\n",
        "print(f'Model Accuracy: {accuracy * 100:.2f}%')"
      ],
      "metadata": {
        "id": "maPkRsH1hYUO"
      },
      "execution_count": null,
      "outputs": []
    }
  ]
}