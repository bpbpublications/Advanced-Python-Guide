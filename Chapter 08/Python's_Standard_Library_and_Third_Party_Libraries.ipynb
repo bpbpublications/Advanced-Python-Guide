{
  "nbformat": 4,
  "nbformat_minor": 0,
  "metadata": {
    "colab": {
      "provenance": []
    },
    "kernelspec": {
      "name": "python3",
      "display_name": "Python 3"
    },
    "language_info": {
      "name": "python"
    }
  },
  "cells": [
    {
      "cell_type": "markdown",
      "source": [
        "**Built-in functions**"
      ],
      "metadata": {
        "id": "P-KA3MiieU--"
      }
    },
    {
      "cell_type": "code",
      "source": [
        "#Example: Using len() to get the length of a list\n",
        "\n",
        "my_list = [1, 2, 3, 4, 5]\n",
        "length = len(my_list)\n",
        "print(f\"Length of the list: {length}\")\n",
        "\n",
        "\n",
        "#Example: Using range() to generate a sequence of numbers\n",
        "numbers = list(range(5))\n",
        "print (f\"Generated numbers: {numbers}\")\n",
        "\n",
        "\n",
        "#Example: Using print() to display output\n",
        "print(\"Hello, Python!\")"
      ],
      "metadata": {
        "id": "nZnOd2-meWPU"
      },
      "execution_count": null,
      "outputs": []
    },
    {
      "cell_type": "code",
      "source": [
        "#Data types\n",
        "\n",
        "\n",
        "#Example: Working with dates and times using datetime\n",
        "from datetime import datetime\n",
        "current_time = datetime.now()\n",
        "print(f\"Current time: {current_time}\")\n",
        "\n",
        "\n",
        "#Example: Mathematical operations using math\n",
        "import math\n",
        "result = math.sqrt(25)\n",
        "print(f\"Square root of 25: {result}\")\n",
        "\n",
        "\n",
        "#Example: Using collections for specialized data structures\n",
        "from collections import Counter\n",
        "my_list = [1, 2, 3, 1, 2, 4, 5, 4]\n",
        "counter = Counter(my_list)\n",
        "print(f\"Count of each element: {counter}\")"
      ],
      "metadata": {
        "id": "XcJaIg-ae2nM"
      },
      "execution_count": null,
      "outputs": []
    },
    {
      "cell_type": "code",
      "source": [
        "#File and Directory operations\n",
        "\n",
        "\n",
        "#Example: Creating and writing to a file using io\n",
        "with open('example.txt', 'w') as file:\n",
        "  file.write('Hello, Python!')\n",
        "\n",
        "#Example: Using os to check file existence\n",
        "import os\n",
        "if os.path.exists('example.txt'):\n",
        "  print('File exists.')"
      ],
      "metadata": {
        "id": "Rb7Tr1s3g6D-"
      },
      "execution_count": null,
      "outputs": []
    },
    {
      "cell_type": "code",
      "source": [
        "#Networking\n",
        "\n",
        "#Example: Creating a simple server using socket\n",
        "\n",
        "import socket\n",
        "server_socket socket.socket(socket.AF_INET, socket.SOCK_STREAM)\n",
        "server_socket.bind(('localhost', 12345))\n",
        "server_socket.listen(5)"
      ],
      "metadata": {
        "id": "MeWuRYkdhZqv"
      },
      "execution_count": null,
      "outputs": []
    },
    {
      "cell_type": "code",
      "source": [
        "#Threading and concurrency\n",
        "\n",
        "#Example: Using threading to run multiple threads\n",
        "\n",
        "\n",
        "import threading\n",
        "def print_numbers():\n",
        "  for i in range(5):\n",
        "    print(i)\n",
        "\n",
        "thread = threading.Thread(target = print_numbers)\n",
        "\n",
        "thread.start()"
      ],
      "metadata": {
        "id": "Ixg3P3VXhoDH"
      },
      "execution_count": null,
      "outputs": []
    },
    {
      "cell_type": "code",
      "source": [
        "#Regular expressions\n",
        "\n",
        "#Example: Using re for pattern matching\n",
        "\n",
        "import re\n",
        "pattern = re.compile(r'\\d+')\n",
        "match = pattern.match('123abc')\n",
        "print(f\"Matched digits: {match.group()}\")"
      ],
      "metadata": {
        "id": "gYL-VgtohyjF"
      },
      "execution_count": null,
      "outputs": []
    },
    {
      "cell_type": "code",
      "source": [
        "#Testing\n",
        "\n",
        "#Example: Writing a simple test using unittest\n",
        "\n",
        "import unittest\n",
        "class TestStringMethods(unittest.TestCase):\n",
        "  def test_upper(self):\n",
        "    self.assertEqual('hello'.upper(), 'HELLO')\n",
        "\n",
        "if __name__ =='__main__':\n",
        "  unittest.main()"
      ],
      "metadata": {
        "id": "X1O8DvephvTM"
      },
      "execution_count": null,
      "outputs": []
    },
    {
      "cell_type": "code",
      "source": [
        "#Interacting with the Operating System\n",
        "\n",
        "#Example: Using subprocess to run a system command\n",
        "\n",
        "import subprocess\n",
        "result = subprocess.run(['ls', '-1'], capture_output=True, text=True)\n",
        "print(result.stdout)"
      ],
      "metadata": {
        "id": "zEapFSIjlSPH"
      },
      "execution_count": null,
      "outputs": []
    },
    {
      "cell_type": "code",
      "source": [
        "#Utility modules\n",
        "\n",
        "#Example: Using sys for system-specific parameters\n",
        "import sys\n",
        "print(f\"Python version: {sys.version}\")\n",
        "\n",
        "#Example: Generating random numbers using random\n",
        "import random\n",
        "random_number = random.randint(1, 100)\n",
        "print(f\"Random number: {random_number}\")\n",
        "\n",
        "#Example: Working with JSON using json\n",
        "import json\n",
        "data = {'name': 'John', 'age': 30, 'city': 'New York'}\n",
        "json_data = json.dumps(data)\n",
        "print(f\"JSON data: {json_data}\")"
      ],
      "metadata": {
        "id": "CkZ9yLmIljtm"
      },
      "execution_count": null,
      "outputs": []
    },
    {
      "cell_type": "markdown",
      "source": [
        "**Commonly used modules**"
      ],
      "metadata": {
        "id": "6qMpCDyCoZRV"
      }
    },
    {
      "cell_type": "code",
      "source": [
        "#Os module\n",
        "\n",
        "\n",
        "\n",
        "import os\n",
        "\n",
        "#List files in the current directory\n",
        "files = os.listdir()\n",
        "files\n",
        "\n",
        "\n",
        "#Get the current working directory\n",
        "cwd = os.getcwd()\n",
        "cwd\n",
        "\n",
        "\n",
        "#Create a new directory\n",
        "os.mkdir(\"my_testdirectory\")\n"
      ],
      "metadata": {
        "id": "bMAOp1f2oU5j"
      },
      "execution_count": 1,
      "outputs": []
    },
    {
      "cell_type": "code",
      "source": [
        "#sys module\n",
        "\n",
        "\n",
        "import sys\n",
        "\n",
        "#Get command-Line arguments\n",
        "arguments = sys.argv\n",
        "\n",
        "# Exit the program with an error code\n",
        "sys.exit(1)"
      ],
      "metadata": {
        "id": "IeAJ2Eh1820j"
      },
      "execution_count": null,
      "outputs": []
    },
    {
      "cell_type": "code",
      "source": [
        "#math module\n",
        "\n",
        "import math\n",
        "\n",
        "#Calculate the square root\n",
        "square_root = math.sqrt(25)\n",
        "square_root\n",
        "\n",
        "#Compute the sine of an angle in radians\n",
        "\n",
        "sine_value = math.sin(math.radians(30))\n",
        "\n",
        "sine_value"
      ],
      "metadata": {
        "id": "bYbDuvfR9LBE"
      },
      "execution_count": null,
      "outputs": []
    },
    {
      "cell_type": "code",
      "source": [
        "#Datetime module\n",
        "\n",
        "\n",
        "from datetime import datetime\n",
        "\n",
        "\n",
        "#Get the current date and time\n",
        "current_time = datetime.now()\n",
        "current_time\n",
        "\n",
        "\n",
        "#Format a date as a string\n",
        "formatted_date = current_time.strftime(\"%Y-%m-%d %H:%M:%S\")\n",
        "\n",
        "formatted_date"
      ],
      "metadata": {
        "id": "s2ja3XSR9f7W"
      },
      "execution_count": null,
      "outputs": []
    },
    {
      "cell_type": "markdown",
      "source": [
        "**Matplotlib**"
      ],
      "metadata": {
        "id": "uK2CSFBI-Oxh"
      }
    },
    {
      "cell_type": "code",
      "source": [
        "import matplotlib.pyplot as plt\n",
        "import numpy as np\n",
        "\n",
        "\n",
        "#generate some sample data to show on plot\n",
        "x = np.linspace(0, 2 * np.pi, 100)\n",
        "y = np.sin(x)\n",
        "\n",
        "\n",
        "#Creating multiple subplots\n",
        "fig, axes = plt.subplots(2, 2, figsize=(8, 6))\n",
        "\n",
        "#Plot 1\n",
        "axes[0, 0].plot(x, np.sin(x))\n",
        "axes[0, 0].set_title('Sine Wave')\n",
        "\n",
        "# Plot 2\n",
        "axes[0, 1].scatter(x, y, color='red')\n",
        "axes[0, 1].set_title('Scatter Plot')\n",
        "\n",
        "# Plot 3\n",
        "axes[1, 0].hist(np.random.randn(1000), bins=30, color='green', alpha=0.7)\n",
        "axes[1, 0].set_title('Histogram')\n",
        "\n",
        "#Plot 4\n",
        "axes[1, 1].plot(x, np.cos(x), linestyle='dashed', color='purple')\n",
        "axes[1, 1].set_title('Cosine Wave')\n",
        "\n",
        "plt.tight_layout()\n",
        "plt.show()\n"
      ],
      "metadata": {
        "id": "rOomheOM-PII"
      },
      "execution_count": null,
      "outputs": []
    },
    {
      "cell_type": "code",
      "source": [],
      "metadata": {
        "id": "NZt2PC-t_W7W"
      },
      "execution_count": null,
      "outputs": []
    }
  ]
}