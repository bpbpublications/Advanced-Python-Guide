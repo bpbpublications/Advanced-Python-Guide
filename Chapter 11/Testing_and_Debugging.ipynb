{
  "nbformat": 4,
  "nbformat_minor": 0,
  "metadata": {
    "colab": {
      "provenance": []
    },
    "kernelspec": {
      "name": "python3",
      "display_name": "Python 3"
    },
    "language_info": {
      "name": "python"
    }
  },
  "cells": [
    {
      "cell_type": "code",
      "source": [
        "#Writing unit tests\n",
        "\n",
        "#Function using the unit test module\n",
        "\n",
        "\n",
        "#test_my_module.py\n",
        "import unittest\n",
        "from my_module import add\n",
        "\n",
        "class TestAddFunction (unittest.TestCase):\n",
        "\n",
        "  def test_add_positive_numbers(self):\n",
        "    result = add(2, 3)\n",
        "    self.assertEqual(result, 5)\n",
        "\n",
        "  def test_add_negative_numbers (self):\n",
        "    result = add(-2, -3)\n",
        "    self.assertEqual(result, -5)\n",
        "\n",
        "  def test_add_mixed_numbers(self):\n",
        "    result = add(5, -3)\n",
        "    self.assertEqual(result, 2)\n",
        "\n",
        "if __name__ == '__main__':\n",
        "  unittest.main()"
      ],
      "metadata": {
        "id": "NPJmZOK4l_2j"
      },
      "execution_count": null,
      "outputs": []
    },
    {
      "cell_type": "code",
      "source": [
        "#Test-Driven Development\n",
        "\n",
        "#Failing test\n",
        "\n",
        "import unittest\n",
        "\n",
        "def multiply(a, b):\n",
        "  return a * b\n",
        "\n",
        "class TestMultiplyFunction(unittest.TestCase):\n",
        "\n",
        "  def test_multiply_positive_numbers(self):\n",
        "    result = multiply(2, 3)\n",
        "    self.assertEqual(result, 6)\n",
        "\n",
        "  def test_multiply_negative_numbers(self):\n",
        "    result = multiply(-2, 3)\n",
        "    self.assertEqual(result, -6)\n",
        "\n",
        "  def test_multiply_by_zero(self):\n",
        "    result = multiply(4, 0)\n",
        "    self.assertEqual(result, 0)\n",
        "\n",
        "if __name__ == '__main__':\n",
        "  unittest.main()"
      ],
      "metadata": {
        "id": "2fDpeaDkmTv6"
      },
      "execution_count": null,
      "outputs": []
    },
    {
      "cell_type": "code",
      "source": [
        "#Code to pass the test\n",
        "\n",
        "# calculator.py\n",
        "\n",
        "def add(a, b):\n",
        "  return a + b\n",
        "\n",
        "def subtract(a, b):\n",
        "  return a - b"
      ],
      "metadata": {
        "id": "5sphMe7UnwuT"
      },
      "execution_count": null,
      "outputs": []
    },
    {
      "cell_type": "markdown",
      "source": [
        "Debugging techniques and tools"
      ],
      "metadata": {
        "id": "YCqu2Nj7oBU-"
      }
    },
    {
      "cell_type": "code",
      "source": [
        "#Simplest debugging technique\n",
        "\n",
        "\n",
        "def example_function(x, y):\n",
        "  print(\"Entering example_function\")\n",
        "  print(\"x:\", x)\n",
        "  print(\"y:\", y)\n",
        "\n",
        "  result = x + y\n",
        "\n",
        "  print(\"Result:\", result)\n",
        "  print(\"Exiting example_function\")\n",
        "\n",
        "  return result"
      ],
      "metadata": {
        "id": "wuMB9fCboDEf"
      },
      "execution_count": null,
      "outputs": []
    },
    {
      "cell_type": "code",
      "source": [
        "#Pdb module\n",
        "\n",
        "import pdb\n",
        "\n",
        "def example_function(x, y):\n",
        "  result = x + y\n",
        "\n",
        "  #Set a breakpoint\n",
        "  pdb.set_trace()\n",
        "\n",
        "  return result"
      ],
      "metadata": {
        "id": "Ps9iIZC8oS7E"
      },
      "execution_count": null,
      "outputs": []
    },
    {
      "cell_type": "code",
      "source": [
        "# Logging module\n",
        "\n",
        "\n",
        "import logging\n",
        "\n",
        "logging.basicConfig(level=logging.DEBUG)\n",
        "\n",
        "def example_function(x, y):\n",
        "  logging.debug(\"Entering example_function\")\n",
        "  logging.debug(f\"x: {x}\")\n",
        "  logging.debug(f\"y: {y}\")\n",
        "\n",
        "  result = x + y\n",
        "\n",
        "  logging.debug(f\"Result: {result}\")\n",
        "  logging.debug(\"Exiting example_function\")\n",
        "\n",
        "  return result"
      ],
      "metadata": {
        "id": "QT-kJ23eolmv"
      },
      "execution_count": null,
      "outputs": []
    },
    {
      "cell_type": "markdown",
      "source": [
        "Profiling and optimization\n"
      ],
      "metadata": {
        "id": "8AjxhpKCpEoB"
      }
    },
    {
      "cell_type": "code",
      "source": [
        "#Profiling with cProfile\n",
        "#Squares of numbers\n",
        "\n",
        "\n",
        "#my_module.py\n",
        "\n",
        "def sum_of_squares(limit):\n",
        "  result = 0\n",
        "  for i in range(1, limit + 1):\n",
        "    result += i**2\n",
        "  return result\n"
      ],
      "metadata": {
        "id": "Ivd-lcgSo7i2"
      },
      "execution_count": null,
      "outputs": []
    },
    {
      "cell_type": "code",
      "source": [
        "#cProfile module\n",
        "\n",
        "import cProfile\n",
        "import my_module\n",
        "\n",
        "#Profile the function\n",
        "cProfile.run('my_module.sum_of_squares(10000)')"
      ],
      "metadata": {
        "id": "7aT1usa8qqwE"
      },
      "execution_count": null,
      "outputs": []
    },
    {
      "cell_type": "code",
      "source": [
        "#Optimization techniques\n",
        "\n",
        "#Optimization using NumPy\n",
        "\n",
        "import numpy as np\n",
        "\n",
        "def optimized_sum_of_squares(limit):\n",
        "  numbers = np.arange(1, limit + 1)\n",
        "  return np.sum(numbers**2)"
      ],
      "metadata": {
        "id": "6BUkZnfIqs3K"
      },
      "execution_count": null,
      "outputs": []
    }
  ]
}