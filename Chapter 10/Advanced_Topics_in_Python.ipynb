{
  "nbformat": 4,
  "nbformat_minor": 0,
  "metadata": {
    "colab": {
      "provenance": []
    },
    "kernelspec": {
      "name": "python3",
      "display_name": "Python 3"
    },
    "language_info": {
      "name": "python"
    }
  },
  "cells": [
    {
      "cell_type": "code",
      "source": [
        "#Threading\n",
        "\n",
        "import threading\n",
        "import time\n",
        "\n",
        "def print_numbers():\n",
        "  for i in range(5):\n",
        "    print(f' Number: {i}')\n",
        "    time.sleep(1)\n",
        "\n",
        "def print_letters():\n",
        "  for letter in 'ABCDE':\n",
        "    print(f' Letter: {letter}')\n",
        "    time.sleep(1)\n",
        "\n",
        "# Create two threads\n",
        "thread1 = threading.Thread(target=print_numbers)\n",
        "thread2 = threading.Thread(target=print_letters)\n",
        "\n",
        "#Start the threads\n",
        "thread1.start()\n",
        "thread2.start()\n",
        "\n",
        "#Wait for both threads to finish\n",
        "thread1.join()\n",
        "thread2.join()\n"
      ],
      "metadata": {
        "id": "9dbhSdxgPRsD"
      },
      "execution_count": null,
      "outputs": []
    },
    {
      "cell_type": "code",
      "source": [
        "# Multiprocessing_example\n",
        "\n",
        "import multiprocessing\n",
        "\n",
        "def square_numbers(numbers, result_queue):\n",
        "  results = []\n",
        "  for number in numbers:\n",
        "    results.append(number ** 2)\n",
        "  result_queue.put(results)\n",
        "\n",
        "if __name__ == '__main__':\n",
        "  numbers_to_square = [1, 2, 3, 4, 5]\n",
        "\n",
        "  #Create a multiprocessing queue for communication\n",
        "  result_queue = multiprocessing.Queue()\n",
        "\n",
        "  # Create a process\n",
        "  process = multiprocessing.Process(target=square_numbers, args=(numbers_to_square, result_queue))\n",
        "\n",
        "  #Start the process\n",
        "  process.start()\n",
        "\n",
        "  #Wait for the process to finish\n",
        "  process.join()\n",
        "\n",
        "  # Retrieve results from the queue\n",
        "  squared_numbers = result_queue.get()\n",
        "\n",
        "  print(f\"Squared Numbers: {squared_numbers}\")"
      ],
      "metadata": {
        "id": "iKlNA5sXRN6X"
      },
      "execution_count": null,
      "outputs": []
    },
    {
      "cell_type": "code",
      "source": [
        "#Asynchronous programming with asyncio\n",
        "\n",
        "#Fetch multiple web pages\n",
        "\n",
        "import asyncio\n",
        "import aiohttp\n",
        "\n",
        "async def fetch_page(url):\n",
        "  async with aiohttp.ClientSession() as session:\n",
        "    async with session.get(url) as response:\n",
        "      return await response.text()\n",
        "\n",
        "async def main():\n",
        "  urls = ['https://www.example.com', 'https://www.example.org', 'https://www.example.net']\n",
        "\n",
        "  # Fetch pages concurrently\n",
        "  tasks = [fetch_page(url) for url in urls]\n",
        "  pages = await asyncio.gather(*tasks)\n",
        "\n",
        "  # Process the fetched pages\n",
        "  for i, page in enumerate (pages):\n",
        "    print(f\"Page {i + 1} length: {len(page)}\")\n",
        "\n",
        "#Run the asynchronous event Loop in Jupyter Notebook\n",
        "asyncio.create_task(main())"
      ],
      "metadata": {
        "id": "dv7dxQCehfO-"
      },
      "execution_count": null,
      "outputs": []
    },
    {
      "cell_type": "code",
      "source": [
        "#Sockets programming (simple server)\n",
        "\n",
        "\n",
        "import socket\n",
        "\n",
        "#Create a socket object\n",
        "server_socket = socket.socket(socket.AF_INET, socket.SOCK_STREAM)\n",
        "\n",
        "#Bind the socket to a specific address and port\n",
        "server_address = ('localhost', 12345)\n",
        "server_socket.bind(server_address)\n",
        "\n",
        "#Listen for incoming connections\n",
        "server_socket.listen(1)\n",
        "print(\"Server is listening for connections...\")\n",
        "\n",
        "while True:\n",
        "  #Wait for a connection\n",
        "  client_socket, client_address = server_socket.accept()\n",
        "  print(f\"Connection from {client_address}\")\n",
        "\n",
        "  #Send a welcome message\n",
        "  message = \"Welcome to the server!\"\n",
        "  client_socket.sendall(message.encode())\n",
        "\n",
        "  #Close the connection\n",
        "  client_socket.close()"
      ],
      "metadata": {
        "id": "gYFQhSrbiUhG"
      },
      "execution_count": null,
      "outputs": []
    },
    {
      "cell_type": "code",
      "source": [
        "#Sockets programming (simple Client)\n",
        "\n",
        "import socket\n",
        "\n",
        "# Create a socket object\n",
        "client_socket = socket.socket(socket.AF_INET, socket.SOCK_STREAM)\n",
        "\n",
        "\n",
        "# Connect to the server\n",
        "server_address = ('localhost', 12345)\n",
        "client_socket.connect(server_address)\n",
        "\n",
        "# Receive and print the welcome message\n",
        "message = client_socket.recv(1024).decode()\n",
        "print(f\"Received: {message}\")\n",
        "\n",
        "#Close the connection\n",
        "client_socket.close()"
      ],
      "metadata": {
        "id": "t7nTDrfojNKQ"
      },
      "execution_count": null,
      "outputs": []
    },
    {
      "cell_type": "code",
      "source": [
        "#TCP Communication\n",
        "\n",
        "\n",
        "import socket\n",
        "\n",
        "# Server\n",
        "server_socket = socket.socket(socket.AF_INET, socket.SOCK_STREAM)\n",
        "server_address = ('localhost', 12345)\n",
        "server_socket.bind(server_address)\n",
        "server_socket.listen(1)\n",
        "print(\"TCP Server is listening...\")\n",
        "\n",
        "client_socket, client_address = server_socket.accept()\n",
        "data = client_socket.recv(1024).decode()\n",
        "print(f\"Received from client: {data}\")\n",
        "\n",
        "# Client\n",
        "client_socket = socket.socket(socket.AF_INET, socket.SOCK_STREAM)\n",
        "server_address = ('localhost', 12345)\n",
        "client_socket.connect(server_address)\n",
        "\n",
        "message = \"Hello, TCP Server!\"\n",
        "client_socket.sendall(message.encode())\n",
        "\n",
        "client_socket.close()\n",
        "server_socket.close()"
      ],
      "metadata": {
        "id": "9WS0nu9QnOV2"
      },
      "execution_count": null,
      "outputs": []
    },
    {
      "cell_type": "code",
      "source": [
        "#UDP Communication\n",
        "\n",
        "\n",
        "import socket\n",
        "\n",
        "# Server\n",
        "server_socket = socket.socket(socket.AF_INET, socket.SOCK_DGRAM)\n",
        "server_address = ('localhost', 54321)\n",
        "server_socket.bind(server_address)\n",
        "print(\"UDP Server is listening...\")\n",
        "\n",
        "data, client_address = server_socket.recvfrom(1024)\n",
        "print(f\"Received from client: {data.decode()}\")\n",
        "\n",
        "\n",
        "# Client\n",
        "client_socket = socket.socket(socket.AF_INET, socket.SOCK_DGRAM)\n",
        "server_address = ('localhost', 54321)\n",
        "\n",
        "message = \"Hello, UDP Server!\"\n",
        "client_socket.sendto(message.encode(), server_address)\n",
        "\n",
        "client_socket.close()\n",
        "server_socket.close()"
      ],
      "metadata": {
        "id": "AiFE66SVrr1m"
      },
      "execution_count": null,
      "outputs": []
    },
    {
      "cell_type": "code",
      "source": [
        "#Making HTTP Request\n",
        "\n",
        "import requests\n",
        "\n",
        "\n",
        "#Making a GET request\n",
        "response = requests.get('https://jsonplaceholder.typicode.com/posts/1')\n",
        "data = response.json()\n",
        "print(data)\n",
        "\n",
        "#Making a POST request\n",
        "payload = {'title': 'foo', 'body': 'bar', 'userId': 1}\n",
        "response = requests.post('https://jsonplaceholder.typicode.com/posts', json=payload)\n",
        "data = response.json()\n",
        "print(data)"
      ],
      "metadata": {
        "id": "BBDtY4CmsZEC"
      },
      "execution_count": null,
      "outputs": []
    },
    {
      "cell_type": "code",
      "source": [
        "#Connecting to Oracle\n",
        "\n",
        "#Oracle database access in Python\n",
        "\n",
        "import cx_Oracle\n",
        "\n",
        "#Connection parameters\n",
        "dsn = 'your_dsn' # Data Source Name\n",
        "user = 'your_username'\n",
        "password = 'your_password'\n",
        "\n",
        "#Create a connection\n",
        "connection = cx_Oracle.connect(user, password, dsn)\n",
        "\n",
        "# Create a cursor\n",
        "cursor = connection.cursor()\n",
        "\n",
        "# Execute a simple query\n",
        "cursor.execute(\"SELECT * FROM your_table\")\n",
        "result = cursor.fetchall()\n",
        "for row in result:\n",
        "  print(row)\n",
        "\n",
        "#Close the cursor and connection\n",
        "cursor.close()\n",
        "connection.close()"
      ],
      "metadata": {
        "id": "5p3sZcFBswBt"
      },
      "execution_count": null,
      "outputs": []
    },
    {
      "cell_type": "code",
      "source": [
        "#Connecting to SQL server\n",
        "\n",
        "#connecting SQL Server databases using Python\n",
        "\n",
        "import pyodbc\n",
        "\n",
        "#Connection parameters\n",
        "server = 'your_server'\n",
        "database = 'your_database'\n",
        "username = 'your_username'\n",
        "password = 'your_password'\n",
        "\n",
        "#Create a connection\n",
        "connection_string = f'DRIVER =ODBC Driver 17 for SQL Server; SERVER={server}; DATABASE={database}; UID={username}; PWD={password}'\n",
        "connection pyodbc.connect(connection_string)\n",
        "\n",
        "#Create a cursor\n",
        "cursor = connection.cursor()\n",
        "\n",
        "#Execute a simple query\n",
        "cursor.execute(\"SELECT * FROM your_table\")\n",
        "result = cursor.fetchall()\n",
        "for row in result:\n",
        "  print(row)\n",
        "\n",
        "#Close the cursor and connection\n",
        "cursor.close()\n",
        "connection.close()"
      ],
      "metadata": {
        "id": "CvQGDd2EtLz-"
      },
      "execution_count": null,
      "outputs": []
    },
    {
      "cell_type": "code",
      "source": [
        "#connecting MySQL database access in Python\n",
        "\n",
        "import mysql.connector\n",
        "\n",
        "# Connection parameters\n",
        "host = 'your_host'\n",
        "database = 'your_database'\n",
        "user = 'your_username'\n",
        "password = 'your_password'\n",
        "\n",
        "# Create a connection\n",
        "connection = mysql.connector.connect(host=host, database=database, user=user, password=password)\n",
        "\n",
        "# Create a cursor\n",
        "cursor = connection.cursor()\n",
        "\n",
        "# Execute a simple query\n",
        "cursor.execute(\"SELECT * FROM your_table\")\n",
        "result = cursor.fetchall()\n",
        "for row in result:\n",
        "  print(row)\n",
        "\n",
        "#Close the cursor and connection\n",
        "cursor.close()\n",
        "connection.close()"
      ],
      "metadata": {
        "id": "6h8yKl3kvnX-"
      },
      "execution_count": null,
      "outputs": []
    },
    {
      "cell_type": "code",
      "source": [
        "#Connecting to DB2\n",
        "\n",
        "#DB2 database access in Python\n",
        "\n",
        "\n",
        "import ibm_db\n",
        "\n",
        "#Connection parameters\n",
        "database = 'your_database'\n",
        "hostname = 'your_hostname\"\n",
        "port = 'your_port'\n",
        "protocol = 'TCPIP'\n",
        "uid = 'your_username'\n",
        "pwd = 'your_password'\n",
        "\n",
        "#Create a connection string\n",
        "connection_string = f\"DATABASE={database}; HOSTNAME={hostname}; PORT={port}; PROTOCOL={protocol}; UID={uid}; PWD={pwd};\"\n",
        "\n",
        "#Create a connection\n",
        "connection = ibm_db.connect(connection_string, \"\", \"\")\n",
        "\n",
        "#Create a statement\n",
        "statement = ibm_db.exec_immediate(connection, \"SELECT * FROM your_table\")\n",
        "result = ibm_db.fetch_assoc(statement)\n",
        "\n",
        "#Print the result\n",
        "while result:\n",
        "  print(result)\n",
        "  result = ibm_db.fetch_assoc(statement)\n",
        "\n",
        "#Close the statement and connection\n",
        "ibm_db.free_stmt(statement)\n",
        "ibm_db.close(connection)"
      ],
      "metadata": {
        "id": "axOEd9qTwTo7"
      },
      "execution_count": null,
      "outputs": []
    },
    {
      "cell_type": "code",
      "source": [
        "#Connecting to MongoDB\n",
        "\n",
        "#MongoDB access in Python\n",
        "\n",
        "import pymongo\n",
        "\n",
        "#Connection parameters\n",
        "host = 'your_host'\n",
        "port = 'your_port'\n",
        "username = 'your_username'\n",
        "password = 'your_password'\n",
        "database = 'your_database'\n",
        "collection_name = 'your_collection'\n",
        "\n",
        "# Create a connection\n",
        "client = pymongo.MongoClient(f\"mongodb://{username}: {password}@{host}:{port}/{database}\")\n",
        "\n",
        "#Access a database and collection\n",
        "db = client[database]\n",
        "collection = db[collection_name]\n",
        "\n",
        "#Perform a query\n",
        "query_result = collection.find()\n",
        "for document in query_result:\n",
        "  print(document)\n",
        "\n",
        "#Close the connection\n",
        "client.close()\n"
      ],
      "metadata": {
        "id": "LZ3VxsWaxJaY"
      },
      "execution_count": null,
      "outputs": []
    },
    {
      "cell_type": "code",
      "source": [
        "#Connecting to couchbase\n",
        "\n",
        "#Couchbase db access in Python\n",
        "\n",
        "from couchbase.cluster import Cluster\n",
        "from couchbase.cluster import PasswordAuthenticator\n",
        "\n",
        "#Connection parameters\n",
        "\n",
        "host 'your_host'\n",
        "bucket_name = 'your_bucket'\n",
        "username = 'your_username'\n",
        "password = 'your_password'\n",
        "\n",
        "#Create a connection\n",
        "cluster = Cluster('couchbase://{}/'.format(host))\n",
        "authenticator = PasswordAuthenticator(username, password)\n",
        "cluster.authenticate(authenticator)\n",
        "\n",
        "#Open the bucket\n",
        "bucket = cluster.open_bucket(bucket_name)\n",
        "\n",
        "#Perform a query\n",
        "query_result = bucket.query('SELECT * FROM your_bucket')\n",
        "for row in query_result:\n",
        "  print(row)\n",
        "\n",
        "#Close the connection\n",
        "cluster.disconnect()"
      ],
      "metadata": {
        "id": "IwH5tikqx3AJ"
      },
      "execution_count": null,
      "outputs": []
    },
    {
      "cell_type": "markdown",
      "source": [
        "Web development with Python"
      ],
      "metadata": {
        "id": "EcjiixeKJjPE"
      }
    },
    {
      "cell_type": "code",
      "source": [
        "#Getting started with Flask\n",
        "#flask\n",
        "\n",
        "\n",
        "from flask import Flask\n",
        "\n",
        "#Create a Flask application\n",
        "app = Flask(__name__)\n",
        "\n",
        "# Define a route and its handler\n",
        "@app.route('/')\n",
        "def hello_world():\n",
        "  return 'Hello, World!'\n",
        "\n",
        "# Run the application\n",
        "if __name__ == '__main__':\n",
        "   app.run(debug=True)\n"
      ],
      "metadata": {
        "id": "O_6B00BTI279"
      },
      "execution_count": null,
      "outputs": []
    },
    {
      "cell_type": "code",
      "source": [
        "# handling dynamic routes\n",
        "\n",
        "from flask import Flask\n",
        "\n",
        "app = Flask(__name__)\n",
        "\n",
        "# Define a dynamic route and its handler\n",
        "@app.route('/user/<username>')\n",
        "\n",
        "def show_user_profile(username):\n",
        "  return f'User {username}'\n",
        "\n",
        "if __name__ == '__main__':\n",
        "  app.run(debug=True)"
      ],
      "metadata": {
        "id": "wrbITPinJk-N"
      },
      "execution_count": null,
      "outputs": []
    },
    {
      "cell_type": "code",
      "source": [
        "#Templates with flask\n",
        "\n",
        "<!DOCTYPE html>\n",
        "<html lang=\"en\">\n",
        "<head>\n",
        "    <meta charset=\"UTF-8\">\n",
        "    <meta name=\"viewport\" content=\"width=device-width, initial-scale=1.0\">\n",
        "    <title>{{ title }}</title>\n",
        "</head>\n",
        "<body>\n",
        "    <h1>{{ message }}</h1>\n",
        "</body>\n",
        "</html>"
      ],
      "metadata": {
        "id": "hClEBQ97Ljbt"
      },
      "execution_count": null,
      "outputs": []
    },
    {
      "cell_type": "code",
      "source": [
        "#Update your Flask script\n",
        "\n",
        "\n",
        "from flask import Flask, render_template\n",
        "\n",
        "app = Flask(__name__)\n",
        "\n",
        "# Define a route using a template\n",
        "@app.route('/')\n",
        "def index():\n",
        "  return render_template('index.html', title='Flask Template', message='Hello from Flask!')\n",
        "\n",
        "if __name__ == '__main__':\n",
        "  app.run(debug=True)"
      ],
      "metadata": {
        "id": "HY6mjmFfMGE1"
      },
      "execution_count": null,
      "outputs": []
    },
    {
      "cell_type": "code",
      "source": [
        "#Form handling with Flask\n",
        "\n",
        "<!DOCTYPE html>\n",
        "<html lang=\"en\">\n",
        "<head>\n",
        "    <meta charset=\"UTF-8\">\n",
        "    <meta name=\"viewport\" content=\"width=device-width, initial-scale=1.0\">\n",
        "    <title>Form Example</title>\n",
        "</head>\n",
        "<body>\n",
        "    <h1>Form Example</h1>\n",
        "    <form method=\"post\" action=\"/submit\">\n",
        "        <label for=\"name\">Name:</label>\n",
        "        <input type=\"text\" id=\"name\" name=\"name\" required>\n",
        "        <br>\n",
        "        <label for=\"email\">Email:</label>\n",
        "        <input type=\"email\" id=\"email\" name=\"email\" required>\n",
        "        <br>\n",
        "        <input type=\"submit\" value=\"Submit\">\n",
        "    </form>\n",
        "</body>\n",
        "</html>"
      ],
      "metadata": {
        "id": "hCyEktOfNINg"
      },
      "execution_count": null,
      "outputs": []
    },
    {
      "cell_type": "code",
      "source": [
        "#Update your Flask script\n",
        "\n",
        "\n",
        "from flask import Flask, render_template, request\n",
        "\n",
        "app = Flask(__name__)\n",
        "\n",
        "# Define routes for the form example\n",
        "@app.route('/form')\n",
        "def show_form():\n",
        "  return render_template('form_example.html')\n",
        "\n",
        "@app.route('/submit', methods=['POST'])\n",
        "def submit_form():\n",
        "  name = request.form.get('name')\n",
        "  email = request.form.get('email')\n",
        "  return f\"Submitted Form: Name - {name}, Email - {email}\"\n",
        "\n",
        "if __name__ =='__main__':\n",
        "  app.run(debug=True)"
      ],
      "metadata": {
        "id": "osKEobJSOpuc"
      },
      "execution_count": null,
      "outputs": []
    },
    {
      "cell_type": "markdown",
      "source": [
        "Data science and machine learning in Python\n"
      ],
      "metadata": {
        "id": "CqAJzSQdTdF8"
      }
    },
    {
      "cell_type": "code",
      "source": [
        "#NumPy for Numerical Computing\n",
        "\n",
        "import numpy as np\n",
        "\n",
        "# Create a NumPy array\n",
        "data = np.array([1, 2, 3, 4, 5])\n",
        "\n",
        "#Perform operations on the array\n",
        "mean_value = np.mean(data)\n",
        "print(f\"Mean: {mean_value}\")"
      ],
      "metadata": {
        "id": "Vw7zt9I6Tg6v"
      },
      "execution_count": null,
      "outputs": []
    },
    {
      "cell_type": "code",
      "source": [
        "#pandas for data manipulation\n",
        "\n",
        "\n",
        "import pandas as pd\n",
        "\n",
        "# Create a pandas DataFrame\n",
        "data = {'Name': ['Alice', 'Bob', 'Charlie'],\n",
        "        'Age': [25, 30, 35],\n",
        "        'City': ['New York', 'San Francisco', 'Los Angeles']}\n",
        "\n",
        "df = pd.DataFrame(data)\n",
        "\n",
        "# Display the DataFrame\n",
        "print(df)"
      ],
      "metadata": {
        "id": "Wgu34J53UTnE"
      },
      "execution_count": null,
      "outputs": []
    },
    {
      "cell_type": "code",
      "source": [
        "#Machine learning with scikit-learn\n",
        "\n",
        "\n",
        "import numpy as np\n",
        "from sklearn.model_selection import train_test_split\n",
        "from sklearn.linear_model import LinearRegression\n",
        "import matplotlib.pyplot as plt\n",
        "\n",
        "#Generate synthetic data\n",
        "np.random.seed(42)\n",
        "X = 2 * np.random.rand(100, 1)\n",
        "y = 4+3 * X + np.random.randn(100, 1)\n",
        "\n",
        "#Split the data into training and testing sets\n",
        "X_train, X_test, y_train, y_test = train_test_split(X, y, test_size=0.2, random_state=42)\n",
        "\n",
        "#Create a Linear regression model\n",
        "model = LinearRegression()\n",
        "\n",
        "# Train the model\n",
        "model.fit(X_train, y_train)\n",
        "\n",
        "#Make predictions on the test set\n",
        "y_pred = model.predict(X_test)\n",
        "\n",
        "\n",
        "#Plot the results\n",
        "plt.scatter(X_test, y_test, color='black')\n",
        "plt.plot(X_test, y_pred, color='blue', linewidth=3)\n",
        "plt.xlabel('x')\n",
        "plt.ylabel('y')\n",
        "plt.title('Linear Regression Example')\n",
        "plt.show()\n"
      ],
      "metadata": {
        "id": "eCmidW14Vu-I"
      },
      "execution_count": null,
      "outputs": []
    },
    {
      "cell_type": "code",
      "source": [
        "#Decision Tree Classifier\n",
        "\n",
        "from sklearn.datasets import load_iris\n",
        "from sklearn.tree import DecisionTreeClassifier\n",
        "from sklearn.model_selection import train_test_split\n",
        "from sklearn.metrics import accuracy_score\n",
        "\n",
        "# Load the Iris dataset\n",
        "iris = load_iris()\n",
        "X, y = iris.data, iris.target\n",
        "\n",
        "#Split the data into training and testing sets\n",
        "X_train, X_test, y_train, y_test = train_test_split(X, y, test_size=0.2, random_state=42)\n",
        "\n",
        "#Create a decision tree classifier\n",
        "clf = DecisionTreeClassifier()\n",
        "\n",
        "#Train the classifier\n",
        "clf.fit(X_train, y_train)\n",
        "\n",
        "#Make predictions on the test set\n",
        "y_pred = clf.predict(X_test)\n",
        "\n",
        "#Evaluate accuracy\n",
        "accuracy = accuracy_score(y_test, y_pred)\n",
        "print(f\"Accuracy: {accuracy}\")"
      ],
      "metadata": {
        "id": "_l0cQBX6sfLv"
      },
      "execution_count": null,
      "outputs": []
    },
    {
      "cell_type": "markdown",
      "source": [
        "Deep Learning with TensorFlow\n",
        "\n",
        "\n",
        "pip install tensorflow"
      ],
      "metadata": {
        "id": "PzQvMbjJtiMI"
      }
    },
    {
      "cell_type": "code",
      "source": [
        " #Linear Regression with TensorFlow\n",
        "\n",
        "import tensorflow as tf\n",
        "import numpy as np\n",
        "import matplotlib.pyplot as plt\n",
        "\n",
        "#Generate synthetic data\n",
        "np.random.seed(42)\n",
        "X = np.random.rand(100, 1)\n",
        "y= 4 + 3 * X + np.random.randn(100, 1)\n",
        "\n",
        "#Build a linear regression model using TensorFlow\n",
        "model = tf.keras.Sequential ([\n",
        "    tf.keras.layers.Input(shape=(1,), name='input_layer'),\n",
        "    tf.keras.layers.Dense(1, name='output_layer')\n",
        "\n",
        "])\n",
        "\n",
        "#Compile the model\n",
        "model.compile(optimizer='adam', loss='mean_squared_error')\n",
        "\n",
        "#Train the model\n",
        "model.fit(X, y, epochs=1000, verbose=0)\n",
        "\n",
        "#Make predictions\n",
        "y_pred = model.predict(X)\n",
        "\n",
        "#Plot the results\n",
        "plt.scatter(X, y, color='black')\n",
        "plt.plot(X, y_pred, color='blue', linewidth=3)\n",
        "plt.xlabel('x')\n",
        "plt.ylabel('y')\n",
        "plt.title('Linear Regression with TensorFlow')\n",
        "plt.show()"
      ],
      "metadata": {
        "id": "JfW6Ho00sgYJ"
      },
      "execution_count": null,
      "outputs": []
    },
    {
      "cell_type": "code",
      "source": [
        "#image classification using TensorFlow\n",
        "\n",
        "import tensorflow as tf\n",
        "from tensorflow.keras import datasets, layers, models\n",
        "\n",
        "#Load the CIFAR-10 dataset\n",
        "(train_images, train_labels), (test_images, test_labels) = datasets.cifar10.load_data()\n",
        "\n",
        "#Normalize pixel values to be between 0 and 1\n",
        "train_images, test_images = train_images / 255.0, test_images / 255.0\n",
        "\n",
        "#Build a convolutional neural network\n",
        "model = models.Sequential([\n",
        "    layers.Conv2D(32, (3, 3), activation = 'relu', input_shape=(32, 32, 3)),\n",
        "    layers.MaxPooling2D((2, 2)),\n",
        "    layers.Conv2D(64, (3, 3), activation = 'relu'),\n",
        "    layers.MaxPooling2D((2, 2)),\n",
        "    layers.Conv2D(64, (3, 3), activation = 'relu'),\n",
        "    layers.Flatten(),\n",
        "    layers.Dense(64, activation = 'relu'),\n",
        "    layers. Dense(10)\n",
        "\n",
        "])\n",
        "\n",
        "#Compile the model\n",
        "model.compile(optimizer='adam',\n",
        "              loss = tf.keras.losses.SparseCategoricalCrossentropy(from_logits=True),\n",
        "              metrics =['accuracy'])\n",
        "\n",
        "#Train the model\n",
        "model.fit(train_images, train_labels, epochs=10, validation_data=(test_images, test_labels))"
      ],
      "metadata": {
        "id": "VOg4guBYufo_"
      },
      "execution_count": null,
      "outputs": []
    },
    {
      "cell_type": "markdown",
      "source": [
        "Big Data and Cloud Computing\n"
      ],
      "metadata": {
        "id": "5Oz4AeslwlTv"
      }
    },
    {
      "cell_type": "code",
      "source": [
        "#Word Count with PySpark\n",
        "\n",
        "\n",
        "from pyspark.sql import SparkSession\n",
        "\n",
        "# Create a Spark session\n",
        "spark = SparkSession.builder.appName(\"WordCount\").getOrCreate()\n",
        "\n",
        "# Read a text file\n",
        "text_file = spark.read.text(\"sample_text.txt\")\n",
        "\n",
        "# Perform word count\n",
        "word_counts = text_file.selectExpr(\"explode(split(value, '')) as word\").groupBy(\"word\").count()\n",
        "\n",
        "#Show the results\n",
        "word_counts.show()\n",
        "\n",
        "# Stop the Spark session\n",
        "spark.stop()"
      ],
      "metadata": {
        "id": "ZP7vvY52wmkl"
      },
      "execution_count": null,
      "outputs": []
    },
    {
      "cell_type": "markdown",
      "source": [
        "Cloud Computing with Python"
      ],
      "metadata": {
        "id": "ijISOiUqxZHp"
      }
    },
    {
      "cell_type": "code",
      "source": [
        "#Uploading File to Amazon S3 with Boto3\n",
        "\n",
        "import boto3\n",
        "\n",
        "# Set your AWS credentials (ensure proper security measures)\n",
        "aws_access_key = 'your_access_key'\n",
        "aws_secret_key = 'your_secret_key'\n",
        "bucket_name = 'your_bucket_name'\n",
        "file_path = 'local_file.txt'\n",
        "s3_key = 'remote_file.txt'\n",
        "\n",
        "# Create an S3 client\n",
        "s3 = boto3.client('s3', aws_access_key_id = aws_access_key, aws_secret_access_key = aws_secret_key)\n",
        "\n",
        "# Upload a file to S3\n",
        "s3.upload_file(file_path, bucket_name, s3_key)\n",
        "print(f\"File uploaded to 53: s3://{bucket_name}/{s3_key}\")\n"
      ],
      "metadata": {
        "id": "cnD14UbXxah6"
      },
      "execution_count": null,
      "outputs": []
    },
    {
      "cell_type": "markdown",
      "source": [
        "Connecting Big Data and Cloud Computing"
      ],
      "metadata": {
        "id": "FORsKE4Y6znq"
      }
    },
    {
      "cell_type": "code",
      "source": [
        "# Running Spark on Google Cloud Dataproc\n",
        "\n",
        "from google.cloud import dataproc_v1 as dataproc\n",
        "from google.protobuf.json_format import MessageToDict\n",
        "\n",
        "#Set your Google Cloud credentials (ensure proper security measures)\n",
        "project_id = 'your_project_id'\n",
        "region = 'your_region'\n",
        "cluster_name = 'your_cluster_name'\n",
        "bucket_name = 'your_bucket_name'\n",
        "script_path = 'gs://{}/path/to/your/spark_script.py'.format(bucket_name)\n",
        "\n",
        "#Create a Dataproc client\n",
        "client = dataproc.JobControllerClient()\n",
        "\n",
        "#Define the Spark job\n",
        "job = {\n",
        "    'placement': {'cluster_name': cluster_name},\n",
        "    'pyspark_job': {'main_python_file_uri': script_path}\n",
        "\n",
        "}\n",
        "\n",
        "#Submit the job\n",
        "operation = client.submit_job(project_id = project_id, region = region, job = job)\n",
        "\n",
        "#Wait for the job to complete\n",
        "result = operation.result()\n",
        "\n",
        "#Print the job result\n",
        "print(MessageToDict(result))"
      ],
      "metadata": {
        "id": "2060MZ9b60cK"
      },
      "execution_count": null,
      "outputs": []
    },
    {
      "cell_type": "markdown",
      "source": [
        "Web frameworks\n"
      ],
      "metadata": {
        "id": "TM5ZBBvF7uOP"
      }
    },
    {
      "cell_type": "code",
      "source": [
        "#Flask application\n",
        "\n",
        "# Import the Flask class\n",
        "from flask import Flask\n",
        "\n",
        "# Create a Flask application instance\n",
        "app = Flask(__name__)\n",
        "\n",
        "# Define a route and corresponding function\n",
        "@app.route('/')\n",
        "def hello():\n",
        "  return 'Hello, World!'\n",
        "\n",
        "# Run the application if executed as the main program\n",
        "if __name__ == '__main__':\n",
        "   app.run(debug=True)"
      ],
      "metadata": {
        "id": "cYMkVIoZ7vXp"
      },
      "execution_count": null,
      "outputs": []
    },
    {
      "cell_type": "code",
      "source": [
        "#Data Analysis with pandas\n",
        "\n",
        "import pandas as pd\n",
        "\n",
        "# Read the CSV file into a DataFrame\n",
        "df = pd.read_csv(r'C:\\Users\\kritisin\\sales_data.csv')\n",
        "\n",
        "# Display the first few rows of the DataFrame\n",
        "print(df.head())\n",
        "\n",
        "# Get basic statistics of numerical columns\n",
        "print(df.describe())\n",
        "\n",
        "# Filter data for a specific product\n",
        "product_data = df [df ['Product'] == 'p1']\n",
        "print(product_data)"
      ],
      "metadata": {
        "id": "fasiiXPS8Jy1"
      },
      "execution_count": null,
      "outputs": []
    },
    {
      "cell_type": "code",
      "source": [
        "#Data Visualization with Matplotlib\n",
        "\n",
        "import pandas as pd\n",
        "import matplotlib.pyplot as plt\n",
        "\n",
        "# Read the CSV file into a DataFrame\n",
        "df= pd.read_csv(r'C:\\Users\\kritisin\\sales_data.csv')\n",
        "\n",
        "#Convert the 'Date' column to datetime\n",
        "df['Date'] = pd.to_datetime(df['Date'])\n",
        "\n",
        "# Group data by date and calculate total revenue\n",
        "daily_revenue = df.groupby('Date')['Revenue'].sum()\n",
        "\n",
        "# Plotting the data\n",
        "plt.figure(figsize=(10, 6))\n",
        "plt.plot(daily_revenue.index, daily_revenue, marker='o', linestyle='-', color='b')\n",
        "plt.title('Daily Revenue Trends')\n",
        "plt.xlabel('Date')\n",
        "plt.ylabel('Revenue')\n",
        "plt.grid(True)\n",
        "plt.show()"
      ],
      "metadata": {
        "id": "FOCdjibh8cQU"
      },
      "execution_count": null,
      "outputs": []
    },
    {
      "cell_type": "code",
      "source": [
        "#Data Visualization with Seaborn\n",
        "\n",
        "\n",
        "import seaborn as sns\n",
        "import matplotlib.pyplot as plt\n",
        "\n",
        "# Load the built-in 'tips' dataset from seaborn\n",
        "tips_df = sns.load_dataset('tips')\n",
        "\n",
        "# Calculate the correlation matrix\n",
        "corr_matrix = tips_df.corr()\n",
        "\n",
        "#Create a heatmap\n",
        "plt.figure(figsize=(10, 8))\n",
        "sns.heatmap(corr_matrix, annot=True, cmap='coolwarm', linewidths=.5)\n",
        "plt.title('Correlation Matrix Heatmap - tips Prediction Dataset')\n",
        "plt.show()"
      ],
      "metadata": {
        "id": "QMRnJqQZ93VM"
      },
      "execution_count": null,
      "outputs": []
    }
  ]
}