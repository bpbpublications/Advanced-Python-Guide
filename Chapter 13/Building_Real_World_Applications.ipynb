{
  "nbformat": 4,
  "nbformat_minor": 0,
  "metadata": {
    "colab": {
      "provenance": []
    },
    "kernelspec": {
      "name": "python3",
      "display_name": "Python 3"
    },
    "language_info": {
      "name": "python"
    }
  },
  "cells": [
    {
      "cell_type": "markdown",
      "source": [
        "Developing a web application"
      ],
      "metadata": {
        "id": "SvfAL6JxwVYv"
      }
    },
    {
      "cell_type": "code",
      "source": [
        "#app.py\n",
        "\n",
        "from flask import Flask\n",
        "\n",
        "\n",
        "app = Flask(__name__)\n",
        "\n",
        "@app.route('/')\n",
        "def home():\n",
        "  return 'Hello, world! This is my first Flask web application.'\n",
        "\n",
        "if __name__ == '__main__':\n",
        "  app.run(debug=True)"
      ],
      "metadata": {
        "id": "QfnsUhh5waIl"
      },
      "execution_count": null,
      "outputs": []
    },
    {
      "cell_type": "markdown",
      "source": [
        "Building a desktop application"
      ],
      "metadata": {
        "id": "PKN9jcEcwwF5"
      }
    },
    {
      "cell_type": "code",
      "source": [
        "#todo_app\n",
        "\n",
        "\n",
        "import tkinter as tk\n",
        "\n",
        "def add_task():\n",
        "  task = entry.get()\n",
        "  if task:\n",
        "    listbox.insert(tk.END, task)\n",
        "    entry.delete(0, tk.END)\n",
        "\n",
        "#Create the main window\n",
        "app = tk.Tk()\n",
        "app.title(\"To-Do List\")\n",
        "\n",
        "#Entry for task input\n",
        "entry = tk. Entry(app, width=40)\n",
        "entry.pack(pady=10)\n",
        "\n",
        "#Button to add tasks\n",
        "add_button = tk.Button(app, text=\"Add Task\", command=add_task)\n",
        "add_button.pack(pady=10)\n",
        "\n",
        "#Listbox to display tasks\n",
        "listbox = tk.Listbox(app, selectbackground=\"yellow\")\n",
        "listbox.pack()\n",
        "\n",
        "app.mainloop()"
      ],
      "metadata": {
        "id": "6WcwKRAjwfOb"
      },
      "execution_count": null,
      "outputs": []
    },
    {
      "cell_type": "markdown",
      "source": [
        "Creating a data analysis project"
      ],
      "metadata": {
        "id": "J_tL-2oyywUq"
      }
    },
    {
      "cell_type": "code",
      "source": [
        "#sales_analysis.py\n",
        "\n",
        "import pandas as pd\n",
        "\n",
        "#Sample sales data\n",
        "data = {\n",
        "    'Product': ['A', 'B', 'C', 'A', 'B', 'C'],\n",
        "    'Sales': [100, 150, 200, 120, 180, 220],\n",
        "    }\n",
        "\n",
        "#Create a DataFrame\n",
        "df = pd.DataFrame(data)\n",
        "\n",
        "#Group by product and calculate total sales\n",
        "total_sales = df.groupby('Product')['Sales'].sum()\n",
        "\n",
        "print(total_sales)"
      ],
      "metadata": {
        "id": "nr19EDaNyw89"
      },
      "execution_count": null,
      "outputs": []
    }
  ]
}